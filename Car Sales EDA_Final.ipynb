{
 "cells": [
  {
   "cell_type": "markdown",
   "metadata": {},
   "source": [
    "# <font color=red>Car Sales EDA</font>                                          "
   ]
  },
  {
   "cell_type": "markdown",
   "metadata": {},
   "source": [
    "### Table of Contents\n",
    "- 1. [Problem Statement](#section1)</br>\n",
    "    - 1.1 [Data source and data set](#section101)<br/>\n",
    "- 2. [Load the packages and data[Data source and data set]](#section2)</br>\n",
    "- 3. [Data profiling](#section3)</br>\n",
    "    - 3.1 [dtypes](#section301)<br/>\n",
    "    - 3.2 [head](#section302)<br/>\n",
    "    - 3.3 [Pandas profiling](#section303)<br/>\n",
    "    - 3.4 [Initial observations](#section304)<br/>\n",
    "- 4. [Data normalization](#section4)</br>\n",
    "    - 4.1 [Drop Registration Column](#section401)<br/>\n",
    "    - 4.2 [Missing Data and its imputation](#section402)<br/>\n",
    "    - 4.3 [Handling NaN values in drive column](#section403)<br/>\n",
    "    - 4.4 [Handling null values of price column](#section404)<br/>\n",
    "    - 4.5 [Correlation of Features](#section405)<br/>           \n",
    "- 5. [Identify patterns in the data](#section5)</br>\n",
    "    - 5.1 [Understanding column: Year](#section501)<br/>\n",
    "    - 5.2 [Understanding column: Mileage](#section502)<br/>\n",
    "    - 5.3 [Understanding column: engV](#section503)<br/>\n",
    "    - 5.4 [Understanding column: Body](#section505)<br/>\n",
    "    - 5.5 [Understanding column: engType](#section506)<br/>\n",
    "    - 5.6 [Understanding column: Drive](#section507)<br/>\n",
    "- 6. [Analysis through questions](#section6)</br>\n",
    "     - 6.1 [Among top 3 car, which car sale is consistently low for 10 years?](#section601)<br/>\n",
    "     - 6.2[which engine type is sold less in BMW car among petrol and diesel?](#section602)<br/>\n",
    "     - 6.3[Which car body type is sold most in last 10 years?](#section603)<br/>\n",
    "     - 6.4 [Which drive type is sold most among all car body type?](#section604)<br/>\n",
    "     - 6.5 [which engine type is sold most among all the car body type?](#section605)<br/>\n",
    "     - 6.6 [which price range car are mostly sold?](#section606)<br/>\n",
    "     - 6.7 [Which model with engine type is mostly preferred?](#section607)<br/>\n",
    "     - 6.8 [Which model with drive type is mostly preferred?](#section608)<br/>\n",
    "- 7. [Conclusion](#section7)<br/>\n",
    "- 8. [Actionable Insight](#section8)<br/>"
   ]
  },
  {
   "cell_type": "markdown",
   "metadata": {},
   "source": [
    "<a id=section1></a> \n",
    "## <font color=blue>1.Problem Statement</font>"
   ]
  },
  {
   "cell_type": "markdown",
   "metadata": {},
   "source": [
    "The notebooks explores the basic use of Pandas and will cover the basic commands of Exploratory Data Analysis(EDA) which includes cleaning, munging, combining, reshaping, slicing, dicing, and transforming data for analysis purpose.\n",
    "\n",
    "Exploratory Data Analysis \n",
    "Understand the data by EDA and derive simple models with Pandas as baseline. EDA ia a critical and first step in analyzing the data and we do this for below reasons :\n",
    "Finding patterns in Data\n",
    "Determining relationships in Data\n",
    "Checking of assumptions\n",
    "Preliminary selection of appropriate models\n",
    "Detection of mistakes"
   ]
  },
  {
   "cell_type": "markdown",
   "metadata": {},
   "source": [
    "<a id=section101></a>\n",
    "### <font color=blue>1.1 Data source and data set</font>"
   ]
  },
  {
   "cell_type": "markdown",
   "metadata": {},
   "source": [
    "### Car Sales data describes sales statistics of car along with its details from year 1959-2016.Below are the fields on which car analysis is done.\n",
    "\n",
    "- **car**         --> Brand Name of car\t       \n",
    "- **price**      --> Sell price of a car.\n",
    "- **body**       --> Type of the material of which car made up of  \n",
    "- **mileage**   --> Number of miles car has travelled (For new car mileage=0)   \n",
    "- **engV**      --> Range of engine   \n",
    "- **engType**  --> Type of engine in car   \n",
    "- **year**     --> Manufacture year of car   \n",
    "- **model**      --> Model Name of car   \n",
    "- **drive**--> Car's driven wheel type\n",
    "- **registration**--> Car is registered or not\n"
   ]
  },
  {
   "cell_type": "markdown",
   "metadata": {},
   "source": [
    "<a id=section2></a>\n",
    "## <font color=blue>2 Load Packages and data</font>"
   ]
  },
  {
   "cell_type": "code",
   "execution_count": 7,
   "metadata": {},
   "outputs": [],
   "source": [
    "import sys                                                                      # Import packages\n",
    "import pandas as pd\n",
    "import seaborn as sns\n",
    "import numpy as np\n",
    "import pandas_profiling \n",
    "import matplotlib.pyplot as plt\n",
    "from matplotlib.pyplot import pie, axis, show\n",
    "%matplotlib inline                                                              \n",
    "\n",
    "\n",
    "import warnings                                                                 # Ignore warning related to pandas_profiling\n",
    "warnings.filterwarnings('ignore') \n",
    "# Read data from csv\n",
    "import pandas as pd\n",
    "car_sales_df=pd.read_csv('https://raw.githubusercontent.com/insaid2018/Term-1/master/Data/Projects/car_sales.csv', encoding='latin 1')\n",
    "\n",
    "#print(car_sales_df.count())"
   ]
  },
  {
   "cell_type": "markdown",
   "metadata": {},
   "source": [
    "<a id=section3></a>\n",
    "## <font color=blue>3.Data Profiling </font>"
   ]
  },
  {
   "cell_type": "markdown",
   "metadata": {},
   "source": [
    "<a id=section301></a>"
   ]
  },
  {
   "cell_type": "markdown",
   "metadata": {},
   "source": [
    "### Understanding types and sample of data"
   ]
  },
  {
   "cell_type": "code",
   "execution_count": 8,
   "metadata": {},
   "outputs": [
    {
     "data": {
      "text/plain": [
       "car              object\n",
       "price           float64\n",
       "body             object\n",
       "mileage           int64\n",
       "engV            float64\n",
       "engType          object\n",
       "registration     object\n",
       "year              int64\n",
       "model            object\n",
       "drive            object\n",
       "dtype: object"
      ]
     },
     "execution_count": 8,
     "metadata": {},
     "output_type": "execute_result"
    }
   ],
   "source": [
    "car_sales_df.dtypes"
   ]
  },
  {
   "cell_type": "markdown",
   "metadata": {},
   "source": [
    "<a id=section302></a>"
   ]
  },
  {
   "cell_type": "code",
   "execution_count": 9,
   "metadata": {},
   "outputs": [
    {
     "data": {
      "text/html": [
       "<div>\n",
       "<style scoped>\n",
       "    .dataframe tbody tr th:only-of-type {\n",
       "        vertical-align: middle;\n",
       "    }\n",
       "\n",
       "    .dataframe tbody tr th {\n",
       "        vertical-align: top;\n",
       "    }\n",
       "\n",
       "    .dataframe thead th {\n",
       "        text-align: right;\n",
       "    }\n",
       "</style>\n",
       "<table border=\"1\" class=\"dataframe\">\n",
       "  <thead>\n",
       "    <tr style=\"text-align: right;\">\n",
       "      <th></th>\n",
       "      <th>car</th>\n",
       "      <th>price</th>\n",
       "      <th>body</th>\n",
       "      <th>mileage</th>\n",
       "      <th>engV</th>\n",
       "      <th>engType</th>\n",
       "      <th>registration</th>\n",
       "      <th>year</th>\n",
       "      <th>model</th>\n",
       "      <th>drive</th>\n",
       "    </tr>\n",
       "  </thead>\n",
       "  <tbody>\n",
       "    <tr>\n",
       "      <th>0</th>\n",
       "      <td>Ford</td>\n",
       "      <td>15500.0</td>\n",
       "      <td>crossover</td>\n",
       "      <td>68</td>\n",
       "      <td>2.5</td>\n",
       "      <td>Gas</td>\n",
       "      <td>yes</td>\n",
       "      <td>2010</td>\n",
       "      <td>Kuga</td>\n",
       "      <td>full</td>\n",
       "    </tr>\n",
       "    <tr>\n",
       "      <th>1</th>\n",
       "      <td>Mercedes-Benz</td>\n",
       "      <td>20500.0</td>\n",
       "      <td>sedan</td>\n",
       "      <td>173</td>\n",
       "      <td>1.8</td>\n",
       "      <td>Gas</td>\n",
       "      <td>yes</td>\n",
       "      <td>2011</td>\n",
       "      <td>E-Class</td>\n",
       "      <td>rear</td>\n",
       "    </tr>\n",
       "    <tr>\n",
       "      <th>2</th>\n",
       "      <td>Mercedes-Benz</td>\n",
       "      <td>35000.0</td>\n",
       "      <td>other</td>\n",
       "      <td>135</td>\n",
       "      <td>5.5</td>\n",
       "      <td>Petrol</td>\n",
       "      <td>yes</td>\n",
       "      <td>2008</td>\n",
       "      <td>CL 550</td>\n",
       "      <td>rear</td>\n",
       "    </tr>\n",
       "    <tr>\n",
       "      <th>3</th>\n",
       "      <td>Mercedes-Benz</td>\n",
       "      <td>17800.0</td>\n",
       "      <td>van</td>\n",
       "      <td>162</td>\n",
       "      <td>1.8</td>\n",
       "      <td>Diesel</td>\n",
       "      <td>yes</td>\n",
       "      <td>2012</td>\n",
       "      <td>B 180</td>\n",
       "      <td>front</td>\n",
       "    </tr>\n",
       "    <tr>\n",
       "      <th>4</th>\n",
       "      <td>Mercedes-Benz</td>\n",
       "      <td>33000.0</td>\n",
       "      <td>vagon</td>\n",
       "      <td>91</td>\n",
       "      <td>NaN</td>\n",
       "      <td>Other</td>\n",
       "      <td>yes</td>\n",
       "      <td>2013</td>\n",
       "      <td>E-Class</td>\n",
       "      <td>NaN</td>\n",
       "    </tr>\n",
       "  </tbody>\n",
       "</table>\n",
       "</div>"
      ],
      "text/plain": [
       "             car    price       body  mileage  engV engType registration  \\\n",
       "0           Ford  15500.0  crossover       68   2.5     Gas          yes   \n",
       "1  Mercedes-Benz  20500.0      sedan      173   1.8     Gas          yes   \n",
       "2  Mercedes-Benz  35000.0      other      135   5.5  Petrol          yes   \n",
       "3  Mercedes-Benz  17800.0        van      162   1.8  Diesel          yes   \n",
       "4  Mercedes-Benz  33000.0      vagon       91   NaN   Other          yes   \n",
       "\n",
       "   year    model  drive  \n",
       "0  2010     Kuga   full  \n",
       "1  2011  E-Class   rear  \n",
       "2  2008   CL 550   rear  \n",
       "3  2012    B 180  front  \n",
       "4  2013  E-Class    NaN  "
      ]
     },
     "execution_count": 9,
     "metadata": {},
     "output_type": "execute_result"
    }
   ],
   "source": [
    "car_sales_df.head()"
   ]
  },
  {
   "cell_type": "code",
   "execution_count": null,
   "metadata": {},
   "outputs": [],
   "source": []
  },
  {
   "cell_type": "markdown",
   "metadata": {},
   "source": [
    "#### **Observations** <br>\n",
    "-  Summary of data types in car_sales_df dataset:<br>\n",
    "-  Price and engV field contains float value.Year is numeric field.<br>\n",
    "-  All other fields are object.<br>\n",
    "-  price field contains zero value which seems to be incorrect.<br>\n",
    "-  drive, engV field contains missing value."
   ]
  },
  {
   "cell_type": "markdown",
   "metadata": {},
   "source": [
    "<a id=section303></a>\n",
    "### <font color=blue>3.3 Pandas profiling </font>"
   ]
  },
  {
   "cell_type": "code",
   "execution_count": 10,
   "metadata": {},
   "outputs": [],
   "source": [
    "preprofile = pandas_profiling.ProfileReport(car_sales_df)\n",
    "preprofile.to_file(outputfile=\"car_data_df_before_processing.html\")"
   ]
  },
  {
   "cell_type": "markdown",
   "metadata": {},
   "source": [
    "<a id=section304></a>\n",
    "## <font color=blue>3.4 Initial observations</font>"
   ]
  },
  {
   "cell_type": "markdown",
   "metadata": {},
   "source": [
    "- Summary of data types in car_sales_df dataset:<br>\n",
    " Float : price, engV<br>\n",
    " Numeric: year<br>\n",
    " object: everything else<br>\n",
    " \n",
    "- car column has 84 distinct brands of car which are further categorized into its model.\n",
    "-  price column contains 267 zero value that may need to be addressed.\n",
    "-  Maximum number of value in mileage filed is zero,Assuming mileage is number of miles travelled.Hence,mileage=0 is considered    as New car.\n",
    "-  Registration column contains yes/no value.It is not much required field so can be dropped.\n",
    "-  drive column contains 4 distinct values.\n",
    "-  engv,drive field contains missing values which may need to be addressed."
   ]
  },
  {
   "cell_type": "markdown",
   "metadata": {},
   "source": [
    "<a id=section4></a>\n",
    "## <font color=blue>4 Data Normalization</font>"
   ]
  },
  {
   "cell_type": "markdown",
   "metadata": {},
   "source": [
    "<a id=section401></a>\n",
    "### <font color=blue>4.1 Drop Registration Column</font>\n"
   ]
  },
  {
   "cell_type": "code",
   "execution_count": 11,
   "metadata": {},
   "outputs": [
    {
     "data": {
      "text/plain": [
       "yes    9015\n",
       "no      561\n",
       "Name: registration, dtype: int64"
      ]
     },
     "execution_count": 11,
     "metadata": {},
     "output_type": "execute_result"
    }
   ],
   "source": [
    "car_sales_df['registration'].value_counts()"
   ]
  },
  {
   "cell_type": "code",
   "execution_count": 12,
   "metadata": {},
   "outputs": [],
   "source": [
    "car_sales_df=car_sales_df.drop(['registration'], axis= 1)\n"
   ]
  },
  {
   "cell_type": "code",
   "execution_count": 13,
   "metadata": {},
   "outputs": [
    {
     "name": "stdout",
     "output_type": "stream",
     "text": [
      "<class 'pandas.core.frame.DataFrame'>\n",
      "RangeIndex: 9576 entries, 0 to 9575\n",
      "Data columns (total 9 columns):\n",
      "car        9576 non-null object\n",
      "price      9576 non-null float64\n",
      "body       9576 non-null object\n",
      "mileage    9576 non-null int64\n",
      "engV       9142 non-null float64\n",
      "engType    9576 non-null object\n",
      "year       9576 non-null int64\n",
      "model      9576 non-null object\n",
      "drive      9065 non-null object\n",
      "dtypes: float64(2), int64(2), object(5)\n",
      "memory usage: 673.4+ KB\n"
     ]
    }
   ],
   "source": [
    "car_sales_df.info()"
   ]
  },
  {
   "cell_type": "markdown",
   "metadata": {},
   "source": [
    "<a id=section402></a>\n",
    "### <font color=blue>4.2 Missing Data and its imputation</font>"
   ]
  },
  {
   "cell_type": "code",
   "execution_count": 14,
   "metadata": {},
   "outputs": [],
   "source": [
    "car_sales_df['engV']=car_sales_df.engV.fillna(car_sales_df.groupby('car')['engV'].transform('median'))"
   ]
  },
  {
   "cell_type": "code",
   "execution_count": 15,
   "metadata": {},
   "outputs": [
    {
     "data": {
      "text/html": [
       "<div>\n",
       "<style scoped>\n",
       "    .dataframe tbody tr th:only-of-type {\n",
       "        vertical-align: middle;\n",
       "    }\n",
       "\n",
       "    .dataframe tbody tr th {\n",
       "        vertical-align: top;\n",
       "    }\n",
       "\n",
       "    .dataframe thead th {\n",
       "        text-align: right;\n",
       "    }\n",
       "</style>\n",
       "<table border=\"1\" class=\"dataframe\">\n",
       "  <thead>\n",
       "    <tr style=\"text-align: right;\">\n",
       "      <th></th>\n",
       "      <th>car</th>\n",
       "      <th>price</th>\n",
       "      <th>body</th>\n",
       "      <th>mileage</th>\n",
       "      <th>engV</th>\n",
       "      <th>engType</th>\n",
       "      <th>year</th>\n",
       "      <th>model</th>\n",
       "      <th>drive</th>\n",
       "    </tr>\n",
       "  </thead>\n",
       "  <tbody>\n",
       "    <tr>\n",
       "      <th>8824</th>\n",
       "      <td>Fisker</td>\n",
       "      <td>0.0</td>\n",
       "      <td>other</td>\n",
       "      <td>100</td>\n",
       "      <td>NaN</td>\n",
       "      <td>Other</td>\n",
       "      <td>2001</td>\n",
       "      <td>Karma</td>\n",
       "      <td>NaN</td>\n",
       "    </tr>\n",
       "    <tr>\n",
       "      <th>8905</th>\n",
       "      <td>Changan</td>\n",
       "      <td>6028.0</td>\n",
       "      <td>crossover</td>\n",
       "      <td>101</td>\n",
       "      <td>NaN</td>\n",
       "      <td>Other</td>\n",
       "      <td>2005</td>\n",
       "      <td>Ideal</td>\n",
       "      <td>NaN</td>\n",
       "    </tr>\n",
       "    <tr>\n",
       "      <th>9360</th>\n",
       "      <td>Barkas</td>\n",
       "      <td>5500.0</td>\n",
       "      <td>van</td>\n",
       "      <td>80</td>\n",
       "      <td>NaN</td>\n",
       "      <td>Petrol</td>\n",
       "      <td>2015</td>\n",
       "      <td>B1000</td>\n",
       "      <td>NaN</td>\n",
       "    </tr>\n",
       "  </tbody>\n",
       "</table>\n",
       "</div>"
      ],
      "text/plain": [
       "          car   price       body  mileage  engV engType  year  model drive\n",
       "8824   Fisker     0.0      other      100   NaN   Other  2001  Karma   NaN\n",
       "8905  Changan  6028.0  crossover      101   NaN   Other  2005  Ideal   NaN\n",
       "9360   Barkas  5500.0        van       80   NaN  Petrol  2015  B1000   NaN"
      ]
     },
     "execution_count": 15,
     "metadata": {},
     "output_type": "execute_result"
    }
   ],
   "source": [
    "car_sales_df[car_sales_df['engV'].isnull()]"
   ]
  },
  {
   "cell_type": "code",
   "execution_count": 16,
   "metadata": {},
   "outputs": [],
   "source": [
    "car_sales_df=car_sales_df.drop(car_sales_df[car_sales_df['engV'].isnull()].index,axis=0)"
   ]
  },
  {
   "cell_type": "markdown",
   "metadata": {},
   "source": [
    "#### Observations for engV<br>\n",
    "-  After replacing null engV values with median values, still 3 rows with null has been identified.<br>\n",
    "-  Median value for these 3 cars are 0 because quantity is only one each so dropping these 3 rows.<br>\n",
    "-  Deleted these 3 rows."
   ]
  },
  {
   "cell_type": "markdown",
   "metadata": {},
   "source": [
    "<a id=section403></a>\n",
    "### <font color=blue>4.3 Handling NaN values in drive column</font>"
   ]
  },
  {
   "cell_type": "code",
   "execution_count": 17,
   "metadata": {},
   "outputs": [],
   "source": [
    "car_sales_df['drive'].fillna(car_sales_df['drive'].mode()[0], inplace=True)"
   ]
  },
  {
   "cell_type": "markdown",
   "metadata": {},
   "source": [
    "#### Observations for drive<br>\n",
    "-  Replaced drive nan values with its mode value i.e. __front__"
   ]
  },
  {
   "cell_type": "markdown",
   "metadata": {},
   "source": [
    "<a id=section404></a>\n",
    "### <font color=blue>4.4 Handling null values of price column</font>"
   ]
  },
  {
   "cell_type": "code",
   "execution_count": 18,
   "metadata": {},
   "outputs": [],
   "source": [
    "car_sales_df['price'].replace(0,np.nan,inplace=True)"
   ]
  },
  {
   "cell_type": "markdown",
   "metadata": {},
   "source": [
    "#### created a new column __new_price__ with median on the basis of model"
   ]
  },
  {
   "cell_type": "code",
   "execution_count": 19,
   "metadata": {},
   "outputs": [],
   "source": [
    "car_sales_df['new_price']=car_sales_df.groupby(['model'])['price'].transform('median')"
   ]
  },
  {
   "cell_type": "markdown",
   "metadata": {},
   "source": [
    "#### Replacing NAN in Price Column with its corresponding values in New_Price column"
   ]
  },
  {
   "cell_type": "code",
   "execution_count": 20,
   "metadata": {},
   "outputs": [],
   "source": [
    "car_sales_df['price'].replace(np.nan,car_sales_df['new_price'],inplace=True)"
   ]
  },
  {
   "cell_type": "code",
   "execution_count": 21,
   "metadata": {},
   "outputs": [
    {
     "data": {
      "text/html": [
       "<div>\n",
       "<style scoped>\n",
       "    .dataframe tbody tr th:only-of-type {\n",
       "        vertical-align: middle;\n",
       "    }\n",
       "\n",
       "    .dataframe tbody tr th {\n",
       "        vertical-align: top;\n",
       "    }\n",
       "\n",
       "    .dataframe thead th {\n",
       "        text-align: right;\n",
       "    }\n",
       "</style>\n",
       "<table border=\"1\" class=\"dataframe\">\n",
       "  <thead>\n",
       "    <tr style=\"text-align: right;\">\n",
       "      <th></th>\n",
       "      <th>car</th>\n",
       "      <th>price</th>\n",
       "      <th>body</th>\n",
       "      <th>mileage</th>\n",
       "      <th>engV</th>\n",
       "      <th>engType</th>\n",
       "      <th>year</th>\n",
       "      <th>model</th>\n",
       "      <th>drive</th>\n",
       "      <th>new_price</th>\n",
       "    </tr>\n",
       "  </thead>\n",
       "  <tbody>\n",
       "    <tr>\n",
       "      <th>3280</th>\n",
       "      <td>Hyundai</td>\n",
       "      <td>NaN</td>\n",
       "      <td>sedan</td>\n",
       "      <td>27</td>\n",
       "      <td>5.00</td>\n",
       "      <td>Petrol</td>\n",
       "      <td>2013</td>\n",
       "      <td>Genesis</td>\n",
       "      <td>rear</td>\n",
       "      <td>NaN</td>\n",
       "    </tr>\n",
       "    <tr>\n",
       "      <th>3335</th>\n",
       "      <td>ËUAZ</td>\n",
       "      <td>NaN</td>\n",
       "      <td>other</td>\n",
       "      <td>10</td>\n",
       "      <td>1.50</td>\n",
       "      <td>Petrol</td>\n",
       "      <td>1991</td>\n",
       "      <td>969 Âîëûíü</td>\n",
       "      <td>full</td>\n",
       "      <td>NaN</td>\n",
       "    </tr>\n",
       "    <tr>\n",
       "      <th>4038</th>\n",
       "      <td>GAZ</td>\n",
       "      <td>NaN</td>\n",
       "      <td>other</td>\n",
       "      <td>1</td>\n",
       "      <td>2.46</td>\n",
       "      <td>Other</td>\n",
       "      <td>1958</td>\n",
       "      <td>69</td>\n",
       "      <td>front</td>\n",
       "      <td>NaN</td>\n",
       "    </tr>\n",
       "    <tr>\n",
       "      <th>5084</th>\n",
       "      <td>GAZ</td>\n",
       "      <td>NaN</td>\n",
       "      <td>crossover</td>\n",
       "      <td>1</td>\n",
       "      <td>2.46</td>\n",
       "      <td>Petrol</td>\n",
       "      <td>1963</td>\n",
       "      <td>69</td>\n",
       "      <td>full</td>\n",
       "      <td>NaN</td>\n",
       "    </tr>\n",
       "    <tr>\n",
       "      <th>6248</th>\n",
       "      <td>GMC</td>\n",
       "      <td>NaN</td>\n",
       "      <td>crossover</td>\n",
       "      <td>130</td>\n",
       "      <td>4.30</td>\n",
       "      <td>Petrol</td>\n",
       "      <td>1998</td>\n",
       "      <td>Safari</td>\n",
       "      <td>full</td>\n",
       "      <td>NaN</td>\n",
       "    </tr>\n",
       "    <tr>\n",
       "      <th>7220</th>\n",
       "      <td>VAZ</td>\n",
       "      <td>NaN</td>\n",
       "      <td>hatch</td>\n",
       "      <td>1</td>\n",
       "      <td>1.50</td>\n",
       "      <td>Gas</td>\n",
       "      <td>1998</td>\n",
       "      <td>2109 (Áàëòèêà)</td>\n",
       "      <td>front</td>\n",
       "      <td>NaN</td>\n",
       "    </tr>\n",
       "    <tr>\n",
       "      <th>7848</th>\n",
       "      <td>Mercedes-Benz</td>\n",
       "      <td>NaN</td>\n",
       "      <td>van</td>\n",
       "      <td>273</td>\n",
       "      <td>2.90</td>\n",
       "      <td>Diesel</td>\n",
       "      <td>2001</td>\n",
       "      <td>Sprinter 310 ïàññ.</td>\n",
       "      <td>front</td>\n",
       "      <td>NaN</td>\n",
       "    </tr>\n",
       "    <tr>\n",
       "      <th>8772</th>\n",
       "      <td>BMW</td>\n",
       "      <td>NaN</td>\n",
       "      <td>sedan</td>\n",
       "      <td>99</td>\n",
       "      <td>4.40</td>\n",
       "      <td>Petrol</td>\n",
       "      <td>2013</td>\n",
       "      <td>Alpina</td>\n",
       "      <td>full</td>\n",
       "      <td>NaN</td>\n",
       "    </tr>\n",
       "  </tbody>\n",
       "</table>\n",
       "</div>"
      ],
      "text/plain": [
       "                car  price       body  mileage  engV engType  year  \\\n",
       "3280        Hyundai    NaN      sedan       27  5.00  Petrol  2013   \n",
       "3335           ËUAZ    NaN      other       10  1.50  Petrol  1991   \n",
       "4038            GAZ    NaN      other        1  2.46   Other  1958   \n",
       "5084            GAZ    NaN  crossover        1  2.46  Petrol  1963   \n",
       "6248            GMC    NaN  crossover      130  4.30  Petrol  1998   \n",
       "7220            VAZ    NaN      hatch        1  1.50     Gas  1998   \n",
       "7848  Mercedes-Benz    NaN        van      273  2.90  Diesel  2001   \n",
       "8772            BMW    NaN      sedan       99  4.40  Petrol  2013   \n",
       "\n",
       "                   model  drive  new_price  \n",
       "3280             Genesis   rear        NaN  \n",
       "3335          969 Âîëûíü   full        NaN  \n",
       "4038                  69  front        NaN  \n",
       "5084                  69   full        NaN  \n",
       "6248              Safari   full        NaN  \n",
       "7220      2109 (Áàëòèêà)  front        NaN  \n",
       "7848  Sprinter 310 ïàññ.  front        NaN  \n",
       "8772              Alpina   full        NaN  "
      ]
     },
     "execution_count": 21,
     "metadata": {},
     "output_type": "execute_result"
    }
   ],
   "source": [
    "car_sales_df[car_sales_df['price'].isnull()]"
   ]
  },
  {
   "cell_type": "markdown",
   "metadata": {},
   "source": [
    "#### Dropping 8 rows where price of a model is zero and record is only one for a model"
   ]
  },
  {
   "cell_type": "code",
   "execution_count": 22,
   "metadata": {},
   "outputs": [],
   "source": [
    "car_sales_df=car_sales_df.drop(car_sales_df[car_sales_df['new_price'].isnull()].index,axis=0)\n"
   ]
  },
  {
   "cell_type": "code",
   "execution_count": 23,
   "metadata": {},
   "outputs": [],
   "source": [
    "car_sales_df=car_sales_df.drop(['new_price'],axis=1)\n"
   ]
  },
  {
   "cell_type": "markdown",
   "metadata": {},
   "source": [
    "#### Observations for price<br>\n",
    "-  Replaced zero value with nan and then replaced it with median value after grouping it with car model\n",
    "-  Median value for 8 cars are 0 dropped it<br>"
   ]
  },
  {
   "cell_type": "markdown",
   "metadata": {},
   "source": [
    "<a id=section405></a>\n",
    "## <font color=blue>4.5 Correlation of Features</font> "
   ]
  },
  {
   "cell_type": "code",
   "execution_count": 24,
   "metadata": {},
   "outputs": [
    {
     "data": {
      "text/html": [
       "<div>\n",
       "<style scoped>\n",
       "    .dataframe tbody tr th:only-of-type {\n",
       "        vertical-align: middle;\n",
       "    }\n",
       "\n",
       "    .dataframe tbody tr th {\n",
       "        vertical-align: top;\n",
       "    }\n",
       "\n",
       "    .dataframe thead th {\n",
       "        text-align: right;\n",
       "    }\n",
       "</style>\n",
       "<table border=\"1\" class=\"dataframe\">\n",
       "  <thead>\n",
       "    <tr style=\"text-align: right;\">\n",
       "      <th></th>\n",
       "      <th>price</th>\n",
       "      <th>mileage</th>\n",
       "      <th>engV</th>\n",
       "      <th>year</th>\n",
       "    </tr>\n",
       "  </thead>\n",
       "  <tbody>\n",
       "    <tr>\n",
       "      <th>price</th>\n",
       "      <td>1.000000</td>\n",
       "      <td>-0.338855</td>\n",
       "      <td>0.053650</td>\n",
       "      <td>0.391977</td>\n",
       "    </tr>\n",
       "    <tr>\n",
       "      <th>mileage</th>\n",
       "      <td>-0.338855</td>\n",
       "      <td>1.000000</td>\n",
       "      <td>0.047945</td>\n",
       "      <td>-0.500563</td>\n",
       "    </tr>\n",
       "    <tr>\n",
       "      <th>engV</th>\n",
       "      <td>0.053650</td>\n",
       "      <td>0.047945</td>\n",
       "      <td>1.000000</td>\n",
       "      <td>-0.041610</td>\n",
       "    </tr>\n",
       "    <tr>\n",
       "      <th>year</th>\n",
       "      <td>0.391977</td>\n",
       "      <td>-0.500563</td>\n",
       "      <td>-0.041610</td>\n",
       "      <td>1.000000</td>\n",
       "    </tr>\n",
       "  </tbody>\n",
       "</table>\n",
       "</div>"
      ],
      "text/plain": [
       "            price   mileage      engV      year\n",
       "price    1.000000 -0.338855  0.053650  0.391977\n",
       "mileage -0.338855  1.000000  0.047945 -0.500563\n",
       "engV     0.053650  0.047945  1.000000 -0.041610\n",
       "year     0.391977 -0.500563 -0.041610  1.000000"
      ]
     },
     "execution_count": 24,
     "metadata": {},
     "output_type": "execute_result"
    }
   ],
   "source": [
    "car_sales_df.corr()"
   ]
  },
  {
   "cell_type": "markdown",
   "metadata": {},
   "source": [
    "#### Observation\n",
    "-  Price and Year are positively correlated , Price and Mileage are negatively correlated"
   ]
  },
  {
   "cell_type": "markdown",
   "metadata": {},
   "source": [
    "<a id=section5></a>\n",
    "## <font color=blue>5. Identify pattern in the data</font>"
   ]
  },
  {
   "cell_type": "markdown",
   "metadata": {},
   "source": [
    "<a id=section501></a>\n",
    "### <font color=blue>5.1 Understanding column: Year</font>"
   ]
  },
  {
   "cell_type": "code",
   "execution_count": 25,
   "metadata": {},
   "outputs": [
    {
     "data": {
      "text/plain": [
       "<matplotlib.axes._subplots.AxesSubplot at 0x2384b1621d0>"
      ]
     },
     "execution_count": 25,
     "metadata": {},
     "output_type": "execute_result"
    },
    {
     "data": {
      "image/png": "[encoded data removed]",
      "text/plain": [
       "<Figure size 800x550 with 1 Axes>"
      ]
     },
     "metadata": {},
     "output_type": "display_data"
    }
   ],
   "source": [
    "car_sales_df['car'].value_counts().head(10).plot.bar()"
   ]
  },
  {
   "cell_type": "markdown",
   "metadata": {},
   "source": [
    "#### Observations\n",
    "-  Above plot describes volkswagen,Mercede-Benz and BMW are the most sellable cars.<br>"
   ]
  },
  {
   "cell_type": "code",
   "execution_count": 26,
   "metadata": {},
   "outputs": [
    {
     "data": {
      "text/plain": [
       "2012    767\n",
       "2013    649\n",
       "2014    368\n",
       "2015    248\n",
       "2016    459\n",
       "Name: year, dtype: int64"
      ]
     },
     "execution_count": 26,
     "metadata": {},
     "output_type": "execute_result"
    }
   ],
   "source": [
    "car_sales_df[(car_sales_df['year'] >= 2012)]['year'].value_counts().sort_index()"
   ]
  },
  {
   "cell_type": "code",
   "execution_count": 27,
   "metadata": {},
   "outputs": [
    {
     "data": {
      "text/plain": [
       "2007     930\n",
       "2008    1158\n",
       "2009     347\n",
       "2010     389\n",
       "2011     701\n",
       "Name: year, dtype: int64"
      ]
     },
     "execution_count": 27,
     "metadata": {},
     "output_type": "execute_result"
    }
   ],
   "source": [
    "car_sales_df[(car_sales_df['year'] < 2012) & (car_sales_df['year'] > 2006)]['year'].value_counts().sort_index()"
   ]
  },
  {
   "cell_type": "code",
   "execution_count": 28,
   "metadata": {},
   "outputs": [
    {
     "data": {
      "text/plain": [
       "<matplotlib.axes._subplots.AxesSubplot at 0x2384af357f0>"
      ]
     },
     "execution_count": 28,
     "metadata": {},
     "output_type": "execute_result"
    },
    {
     "data": {
      "image/png": "[encoded data removed]",
      "text/plain": [
       "<Figure size 800x550 with 1 Axes>"
      ]
     },
     "metadata": {},
     "output_type": "display_data"
    }
   ],
   "source": [
    "car_sales_df[(car_sales_df['year'] < 2018) & (car_sales_df['year'] > 2006)]['year'].value_counts().sort_index().plot.bar()"
   ]
  },
  {
   "cell_type": "markdown",
   "metadata": {},
   "source": [
    "-  Above plot is for a year range 2007 to 2016.\n",
    "-  Car sale is increased from 2009 to 2012 and then decreased from 2012 to 2015."
   ]
  },
  {
   "cell_type": "markdown",
   "metadata": {},
   "source": [
    "<a id=section502></a>\n",
    "### <font color=blue>5.2 Understanding column: Mileage</font>"
   ]
  },
  {
   "cell_type": "code",
   "execution_count": 29,
   "metadata": {},
   "outputs": [
    {
     "data": {
      "text/plain": [
       "<matplotlib.axes._subplots.AxesSubplot at 0x2384af5da58>"
      ]
     },
     "execution_count": 29,
     "metadata": {},
     "output_type": "execute_result"
    },
    {
     "data": {
      "image/png": "[encoded data removed]",
      "text/plain": [
       "<Figure size 800x550 with 1 Axes>"
      ]
     },
     "metadata": {},
     "output_type": "display_data"
    }
   ],
   "source": [
    "car_sales_df[(car_sales_df['mileage'] < 10)]['mileage'].value_counts().sort_index().plot.area()"
   ]
  },
  {
   "cell_type": "code",
   "execution_count": 30,
   "metadata": {},
   "outputs": [
    {
     "data": {
      "text/plain": [
       "<matplotlib.axes._subplots.AxesSubplot at 0x2384b1a67b8>"
      ]
     },
     "execution_count": 30,
     "metadata": {},
     "output_type": "execute_result"
    },
    {
     "data": {
      "image/png": "[encoded data removed]",
      "text/plain": [
       "<Figure size 800x550 with 1 Axes>"
      ]
     },
     "metadata": {},
     "output_type": "display_data"
    }
   ],
   "source": [
    "car_sales_df[(car_sales_df['mileage'] >= 0)& (car_sales_df['mileage'] <= 100)]['mileage'].value_counts().sort_index().plot.line()"
   ]
  },
  {
   "cell_type": "markdown",
   "metadata": {},
   "source": [
    "-  Above plot shows Mileage which range from 0 to 100"
   ]
  },
  {
   "cell_type": "markdown",
   "metadata": {},
   "source": [
    "<a id=section503></a>\n",
    "### <font color=blue>5.3 Understanding column: engV</font>"
   ]
  },
  {
   "cell_type": "code",
   "execution_count": 31,
   "metadata": {},
   "outputs": [
    {
     "data": {
      "text/plain": [
       "<matplotlib.axes._subplots.AxesSubplot at 0x2384b4d2160>"
      ]
     },
     "execution_count": 31,
     "metadata": {},
     "output_type": "execute_result"
    },
    {
     "data": {
      "image/png": "[encoded data removed]",
      "text/plain": [
       "<Figure size 800x550 with 1 Axes>"
      ]
     },
     "metadata": {},
     "output_type": "display_data"
    }
   ],
   "source": [
    "car_sales_df[(car_sales_df['engV'] <= 100)]['engV'].value_counts().head(20).sort_index().plot.line()"
   ]
  },
  {
   "cell_type": "markdown",
   "metadata": {},
   "source": [
    "<a id=section504></a>\n",
    "### <font color=blue>5.4 Understanding column: body</font>\n"
   ]
  },
  {
   "cell_type": "code",
   "execution_count": 32,
   "metadata": {},
   "outputs": [
    {
     "data": {
      "image/png": "[encoded data removed]",
      "text/plain": [
       "<Figure size 500x500 with 1 Axes>"
      ]
     },
     "metadata": {},
     "output_type": "display_data"
    }
   ],
   "source": [
    "car_sales_df['body'].value_counts().plot.pie(figsize=(5, 5), autopct='%.2f')\n",
    "plt.title(\"Body Type Pie Chart\")\n",
    "plt.ylabel(\"Number of car's\")\n",
    "plt.xlabel('Body Type');"
   ]
  },
  {
   "cell_type": "markdown",
   "metadata": {},
   "source": [
    "#### Observations:\n",
    "-  most sold body type is __Sedan__ and __Crossover__\n",
    "-  Hatch, Van and Vagon each share is less than 14%"
   ]
  },
  {
   "cell_type": "markdown",
   "metadata": {},
   "source": [
    "<a id=section505></a>\n",
    "### <font color=blue>5.5 Understanding column: engType</font>\n"
   ]
  },
  {
   "cell_type": "code",
   "execution_count": 33,
   "metadata": {},
   "outputs": [
    {
     "data": {
      "image/png": "[encoded data removed]",
      "text/plain": [
       "<Figure size 500x500 with 1 Axes>"
      ]
     },
     "metadata": {},
     "output_type": "display_data"
    }
   ],
   "source": [
    "car_sales_df['engType'].value_counts().plot.pie(figsize=(5, 5), autopct='%.2f')\n",
    "plt.title(\"engType Pie Chart\")\n",
    "plt.ylabel(\"Number of car's\")\n",
    "plt.xlabel('engType');"
   ]
  },
  {
   "cell_type": "markdown",
   "metadata": {},
   "source": [
    "<a id=section506></a>\n",
    "### <font color=blue>5.6 Understanding column: drive</font>\n"
   ]
  },
  {
   "cell_type": "code",
   "execution_count": 34,
   "metadata": {},
   "outputs": [
    {
     "data": {
      "image/png": "[encoded data removed]",
      "text/plain": [
       "<Figure size 500x500 with 1 Axes>"
      ]
     },
     "metadata": {},
     "output_type": "display_data"
    }
   ],
   "source": [
    "car_sales_df['drive'].value_counts().plot.pie(figsize=(5, 5), autopct='%.2f')\n",
    "plt.title(\"Drive Pie Chart\")\n",
    "plt.ylabel(\"Number of car's\")\n",
    "plt.xlabel('Drive');"
   ]
  },
  {
   "cell_type": "markdown",
   "metadata": {},
   "source": [
    "-  front drive is preferred by all the customer "
   ]
  },
  {
   "cell_type": "markdown",
   "metadata": {},
   "source": [
    "### Observation of all columns\n",
    "-  Above plot describes __volkswagen__,__Mercede-Benz__ and __BMW__ are the most sellable cars.\n",
    "-  Most less sellabe cars are Samsung,Lambhorgini,Mercury,SMA,etc.\n",
    "-  Car sale is increased from 2009 to 2012 and then decreased from 2012 to 2015.\n",
    "-  engV value ranges from 0 to 100\n",
    "-  most sold body type is __Sedan__ and __Crossover__\n",
    "-  Hatch, Van and Vagon share is less than 14% each\n",
    "-  front drive is preferred by all the customer."
   ]
  },
  {
   "cell_type": "markdown",
   "metadata": {},
   "source": [
    "<a id=section6></a>\n",
    "## <font color=blue>6. Analysis through questions</font>"
   ]
  },
  {
   "cell_type": "markdown",
   "metadata": {},
   "source": [
    "<a id=section601></a>\n",
    "### <font color=blue>Q1  Among top 3 car, which car sale is consistently low for 10 years?</font>"
   ]
  },
  {
   "cell_type": "code",
   "execution_count": 35,
   "metadata": {},
   "outputs": [
    {
     "data": {
      "text/html": [
       "<div>\n",
       "<style scoped>\n",
       "    .dataframe tbody tr th:only-of-type {\n",
       "        vertical-align: middle;\n",
       "    }\n",
       "\n",
       "    .dataframe tbody tr th {\n",
       "        vertical-align: top;\n",
       "    }\n",
       "\n",
       "    .dataframe thead th {\n",
       "        text-align: right;\n",
       "    }\n",
       "</style>\n",
       "<table border=\"1\" class=\"dataframe\">\n",
       "  <thead>\n",
       "    <tr style=\"text-align: right;\">\n",
       "      <th></th>\n",
       "      <th>car</th>\n",
       "      <th>price</th>\n",
       "      <th>mileage</th>\n",
       "      <th>engV</th>\n",
       "      <th>engType</th>\n",
       "      <th>year</th>\n",
       "      <th>model</th>\n",
       "      <th>drive</th>\n",
       "    </tr>\n",
       "    <tr>\n",
       "      <th>body</th>\n",
       "      <th></th>\n",
       "      <th></th>\n",
       "      <th></th>\n",
       "      <th></th>\n",
       "      <th></th>\n",
       "      <th></th>\n",
       "      <th></th>\n",
       "      <th></th>\n",
       "    </tr>\n",
       "  </thead>\n",
       "  <tbody>\n",
       "    <tr>\n",
       "      <th>crossover</th>\n",
       "      <td>445</td>\n",
       "      <td>445</td>\n",
       "      <td>445</td>\n",
       "      <td>445</td>\n",
       "      <td>445</td>\n",
       "      <td>445</td>\n",
       "      <td>445</td>\n",
       "      <td>445</td>\n",
       "    </tr>\n",
       "    <tr>\n",
       "      <th>hatch</th>\n",
       "      <td>147</td>\n",
       "      <td>147</td>\n",
       "      <td>147</td>\n",
       "      <td>147</td>\n",
       "      <td>147</td>\n",
       "      <td>147</td>\n",
       "      <td>147</td>\n",
       "      <td>147</td>\n",
       "    </tr>\n",
       "    <tr>\n",
       "      <th>other</th>\n",
       "      <td>300</td>\n",
       "      <td>300</td>\n",
       "      <td>300</td>\n",
       "      <td>300</td>\n",
       "      <td>300</td>\n",
       "      <td>300</td>\n",
       "      <td>300</td>\n",
       "      <td>300</td>\n",
       "    </tr>\n",
       "    <tr>\n",
       "      <th>sedan</th>\n",
       "      <td>1042</td>\n",
       "      <td>1042</td>\n",
       "      <td>1042</td>\n",
       "      <td>1042</td>\n",
       "      <td>1042</td>\n",
       "      <td>1042</td>\n",
       "      <td>1042</td>\n",
       "      <td>1042</td>\n",
       "    </tr>\n",
       "    <tr>\n",
       "      <th>vagon</th>\n",
       "      <td>161</td>\n",
       "      <td>161</td>\n",
       "      <td>161</td>\n",
       "      <td>161</td>\n",
       "      <td>161</td>\n",
       "      <td>161</td>\n",
       "      <td>161</td>\n",
       "      <td>161</td>\n",
       "    </tr>\n",
       "    <tr>\n",
       "      <th>van</th>\n",
       "      <td>454</td>\n",
       "      <td>454</td>\n",
       "      <td>454</td>\n",
       "      <td>454</td>\n",
       "      <td>454</td>\n",
       "      <td>454</td>\n",
       "      <td>454</td>\n",
       "      <td>454</td>\n",
       "    </tr>\n",
       "  </tbody>\n",
       "</table>\n",
       "</div>"
      ],
      "text/plain": [
       "            car  price  mileage  engV  engType  year  model  drive\n",
       "body                                                              \n",
       "crossover   445    445      445   445      445   445    445    445\n",
       "hatch       147    147      147   147      147   147    147    147\n",
       "other       300    300      300   300      300   300    300    300\n",
       "sedan      1042   1042     1042  1042     1042  1042   1042   1042\n",
       "vagon       161    161      161   161      161   161    161    161\n",
       "van         454    454      454   454      454   454    454    454"
      ]
     },
     "execution_count": 35,
     "metadata": {},
     "output_type": "execute_result"
    }
   ],
   "source": [
    "car_list=['Volkswagen','BMW','Mercedes-Benz']\n",
    "car_sales_df[car_sales_df['car'].isin(car_list)].groupby('body').count()"
   ]
  },
  {
   "cell_type": "markdown",
   "metadata": {},
   "source": [
    "#### <font color=blue> Creating new data set car_data_10Yr by flitering out data from 2006-2018</font>"
   ]
  },
  {
   "cell_type": "code",
   "execution_count": 36,
   "metadata": {},
   "outputs": [],
   "source": [
    "car_data_10Yr=car_sales_df[(car_sales_df['year'] < 2018) & (car_sales_df['year'] > 2006)]\n"
   ]
  },
  {
   "cell_type": "code",
   "execution_count": 37,
   "metadata": {
    "scrolled": true
   },
   "outputs": [
    {
     "data": {
      "text/plain": [
       "<matplotlib.axes._subplots.AxesSubplot at 0x2384bb70ba8>"
      ]
     },
     "execution_count": 37,
     "metadata": {},
     "output_type": "execute_result"
    },
    {
     "data": {
      "image/png": "[encoded data removed]",
      "text/plain": [
       "<Figure size 800x400 with 1 Axes>"
      ]
     },
     "metadata": {},
     "output_type": "display_data"
    }
   ],
   "source": [
    "plt.figure(figsize=(8,4))\n",
    "sns.countplot(\"year\", hue=\"car\", data=car_data_10Yr[car_data_10Yr['car'].isin(['BMW','Volkswagen','Mercedes-Benz'])])"
   ]
  },
  {
   "cell_type": "markdown",
   "metadata": {},
   "source": [
    "### observation\n",
    "-  From 2007-2013, sales of volkswagen was highest and Mercedes-Benz was second highest.<br>\n",
    "-  After 2013, sales of Mercedes-Benz was highest and Volkswagen was second highest.\n",
    "-  Sales of BMW was consistently low till 2015"
   ]
  },
  {
   "cell_type": "code",
   "execution_count": 110,
   "metadata": {
    "scrolled": true
   },
   "outputs": [
    {
     "data": {
      "text/plain": [
       "<matplotlib.axes._subplots.AxesSubplot at 0x1f83dcb1240>"
      ]
     },
     "execution_count": 110,
     "metadata": {},
     "output_type": "execute_result"
    },
    {
     "data": {
      "image/png": "[encoded data removed]",
      "text/plain": [
       "<Figure size 576x288 with 1 Axes>"
      ]
     },
     "metadata": {
      "needs_background": "light"
     },
     "output_type": "display_data"
    }
   ],
   "source": [
    "plt.figure(figsize=(8,4))\n",
    "sns.countplot(\"year\", hue=\"car\", data=car_data_10Yr[car_data_10Yr['car'].isin(['Volkswagen','Mercedes-Benz'])])"
   ]
  },
  {
   "cell_type": "markdown",
   "metadata": {},
   "source": [
    "#### Observation\n",
    "-  sales of volkswagen is more than Mercedes-Benz from 2007 to 2013 but in 2014 sale of Mercedes-Benz is more than volkswagen\n",
    "-  sale of Mercedes-Benz is increased drastically in 2016"
   ]
  },
  {
   "cell_type": "code",
   "execution_count": 111,
   "metadata": {},
   "outputs": [
    {
     "data": {
      "text/plain": [
       "<matplotlib.axes._subplots.AxesSubplot at 0x1f83de20278>"
      ]
     },
     "execution_count": 111,
     "metadata": {},
     "output_type": "execute_result"
    },
    {
     "data": {
      "image/png": "[encoded data removed]",
      "text/plain": [
       "<Figure size 576x288 with 1 Axes>"
      ]
     },
     "metadata": {
      "needs_background": "light"
     },
     "output_type": "display_data"
    }
   ],
   "source": [
    "plt.figure(figsize=(8,4))\n",
    "sns.countplot(\"year\", hue=\"car\", data=car_data_10Yr[car_data_10Yr['car'].isin(['BMW','Mercedes-Benz'])])"
   ]
  },
  {
   "cell_type": "markdown",
   "metadata": {},
   "source": [
    "-  Above plot shows sale of BMW is always less than Mercedes-Benz"
   ]
  },
  {
   "cell_type": "code",
   "execution_count": 112,
   "metadata": {},
   "outputs": [
    {
     "data": {
      "text/plain": [
       "<matplotlib.axes._subplots.AxesSubplot at 0x1f83f06c9e8>"
      ]
     },
     "execution_count": 112,
     "metadata": {},
     "output_type": "execute_result"
    },
    {
     "data": {
      "image/png": "[encoded data removed]",
      "text/plain": [
       "<Figure size 576x288 with 1 Axes>"
      ]
     },
     "metadata": {
      "needs_background": "light"
     },
     "output_type": "display_data"
    }
   ],
   "source": [
    "plt.figure(figsize=(8,4))\n",
    "sns.countplot(\"year\", hue=\"car\", data=car_data_10Yr[car_data_10Yr['car'].isin(['BMW','Volkswagen'])])"
   ]
  },
  {
   "cell_type": "markdown",
   "metadata": {},
   "source": [
    "-  Above plot shows sale of Volkswagen is always greater than BMW but in year 2016 BMW over take volkswagen i.e. sale of BMW increased in 2016"
   ]
  },
  {
   "cell_type": "markdown",
   "metadata": {},
   "source": [
    "<a id=section602></a>\n",
    "### <font color=blue> Q2 which engine type is sold less in BMW car among petrol and diesel?"
   ]
  },
  {
   "cell_type": "code",
   "execution_count": 113,
   "metadata": {},
   "outputs": [
    {
     "data": {
      "text/plain": [
       "<matplotlib.axes._subplots.AxesSubplot at 0x1f83dfded30>"
      ]
     },
     "execution_count": 113,
     "metadata": {},
     "output_type": "execute_result"
    },
    {
     "data": {
      "image/png": "[encoded data removed]",
      "text/plain": [
       "<Figure size 576x288 with 1 Axes>"
      ]
     },
     "metadata": {
      "needs_background": "light"
     },
     "output_type": "display_data"
    }
   ],
   "source": [
    "plt.figure(figsize=(8,4))\n",
    "sns.countplot(\"car\", hue=\"engType\", data=car_data_10Yr[car_data_10Yr['car'].isin(['BMW','Volkswagen','Mercedes-Benz'])])"
   ]
  },
  {
   "cell_type": "markdown",
   "metadata": {},
   "source": [
    "Above plot shows -\n",
    "-  diesel car of Volkswagen and Mercedes-Benz is sold more compared to petrol car\n",
    "-  petrol car of BMW is sold more compared to diesel"
   ]
  },
  {
   "cell_type": "markdown",
   "metadata": {},
   "source": [
    "<a id=section603></a>\n",
    "### <font color=blue> Q3 Which car body type is sold most in last 10 years?"
   ]
  },
  {
   "cell_type": "code",
   "execution_count": 40,
   "metadata": {},
   "outputs": [],
   "source": [
    "top_car_data=car_data_10Yr[car_data_10Yr['car'].isin(['BMW','Mercedes-Benz','Volkswagen'])]"
   ]
  },
  {
   "cell_type": "code",
   "execution_count": 41,
   "metadata": {},
   "outputs": [
    {
     "data": {
      "text/plain": [
       "<matplotlib.axes._subplots.AxesSubplot at 0x2384bc20588>"
      ]
     },
     "execution_count": 41,
     "metadata": {},
     "output_type": "execute_result"
    },
    {
     "data": {
      "image/png": "[encoded data removed]",
      "text/plain": [
       "<Figure size 800x550 with 1 Axes>"
      ]
     },
     "metadata": {},
     "output_type": "display_data"
    }
   ],
   "source": [
    "sns.countplot(x='car',data=top_car_data,hue='body')"
   ]
  },
  {
   "cell_type": "markdown",
   "metadata": {},
   "source": [
    "Above plot inferred-\n",
    "-  sedan and crossover body car is mostly preferred.\n",
    "-  In BMW, crossover body is preferred as compared to sedan body."
   ]
  },
  {
   "cell_type": "markdown",
   "metadata": {},
   "source": [
    "<a id=section604></a>\n",
    "### <font color=blue> Q4 Which drive type is sold most among all car body type?"
   ]
  },
  {
   "cell_type": "code",
   "execution_count": 42,
   "metadata": {},
   "outputs": [
    {
     "data": {
      "text/plain": [
       "<matplotlib.axes._subplots.AxesSubplot at 0x2384be3e198>"
      ]
     },
     "execution_count": 42,
     "metadata": {},
     "output_type": "execute_result"
    },
    {
     "data": {
      "image/png": "[encoded data removed]",
      "text/plain": [
       "<Figure size 800x550 with 1 Axes>"
      ]
     },
     "metadata": {},
     "output_type": "display_data"
    }
   ],
   "source": [
    "sns.countplot(x='body',data=car_data_10Yr,hue='drive')"
   ]
  },
  {
   "cell_type": "markdown",
   "metadata": {},
   "source": [
    "Above plot shows -\n",
    "-  front wheel drive are the top most sold in all the body type except crossover.\n",
    "-  In Crossover, full wheel drive is top most sold"
   ]
  },
  {
   "cell_type": "markdown",
   "metadata": {},
   "source": [
    "<a id=section605></a>\n",
    "### <font color=blue> Q5 which engine type is sold most among all the car body type?"
   ]
  },
  {
   "cell_type": "code",
   "execution_count": 43,
   "metadata": {},
   "outputs": [
    {
     "data": {
      "text/plain": [
       "<matplotlib.axes._subplots.AxesSubplot at 0x2384bedfda0>"
      ]
     },
     "execution_count": 43,
     "metadata": {},
     "output_type": "execute_result"
    },
    {
     "data": {
      "image/png": "[encoded data removed]",
      "text/plain": [
       "<Figure size 800x550 with 1 Axes>"
      ]
     },
     "metadata": {},
     "output_type": "display_data"
    }
   ],
   "source": [
    "sns.countplot(x='body',data=car_data_10Yr,hue='engType')"
   ]
  },
  {
   "cell_type": "markdown",
   "metadata": {},
   "source": [
    "Above plot shows -\n",
    "-  In sedan, petrol car is the top most sold among all body type\n",
    "-  In crossover, both petrol and desiel car are sold approximately equal"
   ]
  },
  {
   "cell_type": "markdown",
   "metadata": {},
   "source": [
    "<a id=section606></a>\n",
    "### <font color=blue> Q6 which price range car are mostly sold?"
   ]
  },
  {
   "cell_type": "code",
   "execution_count": 44,
   "metadata": {},
   "outputs": [
    {
     "data": {
      "text/plain": [
       "<20k        4140\n",
       "20k-30k      752\n",
       "30k-50k      578\n",
       "50k-100k     389\n",
       ">100k        157\n",
       "Name: price_group, dtype: int64"
      ]
     },
     "execution_count": 44,
     "metadata": {},
     "output_type": "execute_result"
    }
   ],
   "source": [
    "car_data_10Yr['price_group'] = pd.cut(car_data_10Yr['price'],\n",
    "                         [0,20000,30000,50000,100000,600000],\n",
    "                         labels=['<20k','20k-30k','30k-50k','50k-100k','>100k'], include_lowest=True)\n",
    "car_data_10Yr['price_group'].value_counts()"
   ]
  },
  {
   "cell_type": "markdown",
   "metadata": {},
   "source": [
    "-  car's sold are mostly of price less than 20k"
   ]
  },
  {
   "cell_type": "code",
   "execution_count": 45,
   "metadata": {},
   "outputs": [],
   "source": [
    "df4=car_data_10Yr[car_data_10Yr['price_group']=='<20k']"
   ]
  },
  {
   "cell_type": "code",
   "execution_count": 46,
   "metadata": {},
   "outputs": [
    {
     "data": {
      "text/plain": [
       "sedan        1509\n",
       "hatch         751\n",
       "crossover     648\n",
       "van           583\n",
       "vagon         326\n",
       "other         323\n",
       "Name: body, dtype: int64"
      ]
     },
     "execution_count": 46,
     "metadata": {},
     "output_type": "execute_result"
    }
   ],
   "source": [
    "df4['body'].value_counts()"
   ]
  },
  {
   "cell_type": "markdown",
   "metadata": {},
   "source": [
    "-  sedan, hatch and crossover are sold maximum for price range less than 20k and it is 70%"
   ]
  },
  {
   "cell_type": "code",
   "execution_count": 47,
   "metadata": {},
   "outputs": [
    {
     "data": {
      "text/plain": [
       "Petrol    2018\n",
       "Diesel    1153\n",
       "Gas        751\n",
       "Other      218\n",
       "Name: engType, dtype: int64"
      ]
     },
     "execution_count": 47,
     "metadata": {},
     "output_type": "execute_result"
    }
   ],
   "source": [
    "df4['engType'].value_counts()"
   ]
  },
  {
   "cell_type": "markdown",
   "metadata": {},
   "source": [
    "-  petrol car is sold maximum for price range less than 20k and it is 49%"
   ]
  },
  {
   "cell_type": "code",
   "execution_count": 48,
   "metadata": {},
   "outputs": [
    {
     "data": {
      "text/plain": [
       "front    3273\n",
       "full      660\n",
       "rear      207\n",
       "Name: drive, dtype: int64"
      ]
     },
     "execution_count": 48,
     "metadata": {},
     "output_type": "execute_result"
    }
   ],
   "source": [
    "df4['drive'].value_counts()"
   ]
  },
  {
   "cell_type": "markdown",
   "metadata": {},
   "source": [
    "-  front drive is sold maximum for price range less than 20k and it is 79%"
   ]
  },
  {
   "cell_type": "markdown",
   "metadata": {},
   "source": [
    "#### Observation\n",
    "-  car's sold are mostly of price less than 20k\n",
    "-  sedan, hatch and crossover are sold maximum for price range less than 20k and it is 70%\n",
    "-  front drive is sold maximum for price range less than 20k and it is 79%"
   ]
  },
  {
   "cell_type": "markdown",
   "metadata": {},
   "source": [
    "#### Observation of dataset (2006-2018)\n",
    "-  sedan and crossover body car is mostly preferred.\n",
    "-  In BMW, crossover body is preferred as compared to sedan body.\n",
    "-  front wheel drive are the top most sold in all the body type except crossover.\n",
    "-  In Crossover, full wheel drive is top most sold\n",
    "-  In sedan, petrol car is the top most sold among all body type\n",
    "-  In crossover, both petrol and desiel car are sold approximately equal"
   ]
  },
  {
   "cell_type": "markdown",
   "metadata": {},
   "source": [
    "<a id=section607></a>\n",
    "### <font color=blue> Q7 Which model with engine type is mostly preferred? </font>"
   ]
  },
  {
   "cell_type": "code",
   "execution_count": 49,
   "metadata": {},
   "outputs": [
    {
     "data": {
      "text/plain": [
       "291"
      ]
     },
     "execution_count": 49,
     "metadata": {},
     "output_type": "execute_result"
    }
   ],
   "source": [
    "car_sales_df[(car_sales_df['car']=='Volkswagen') & (car_sales_df['engType']=='Petrol')].groupby('model').size().sum()"
   ]
  },
  {
   "cell_type": "code",
   "execution_count": 50,
   "metadata": {},
   "outputs": [
    {
     "data": {
      "text/plain": [
       "36"
      ]
     },
     "execution_count": 50,
     "metadata": {},
     "output_type": "execute_result"
    }
   ],
   "source": [
    "car_sales_df[(car_sales_df['car']=='Volkswagen') & (car_sales_df['engType']=='Petrol')].groupby('model').size().count()"
   ]
  },
  {
   "cell_type": "code",
   "execution_count": 51,
   "metadata": {},
   "outputs": [
    {
     "data": {
      "text/plain": [
       "40"
      ]
     },
     "execution_count": 51,
     "metadata": {},
     "output_type": "execute_result"
    }
   ],
   "source": [
    "car_sales_df[(car_sales_df['car']=='Volkswagen') & (car_sales_df['engType']=='Diesel')].groupby('model').size().count()"
   ]
  },
  {
   "cell_type": "code",
   "execution_count": 52,
   "metadata": {},
   "outputs": [
    {
     "data": {
      "text/plain": [
       "529"
      ]
     },
     "execution_count": 52,
     "metadata": {},
     "output_type": "execute_result"
    }
   ],
   "source": [
    "car_sales_df[(car_sales_df['car']=='Volkswagen') & (car_sales_df['engType']=='Diesel')].groupby('model').size().sum()"
   ]
  },
  {
   "cell_type": "code",
   "execution_count": 53,
   "metadata": {},
   "outputs": [
    {
     "data": {
      "text/plain": [
       "331"
      ]
     },
     "execution_count": 53,
     "metadata": {},
     "output_type": "execute_result"
    }
   ],
   "source": [
    "car_sales_df[(car_sales_df['car']=='BMW') & (car_sales_df['engType']=='Petrol')].groupby('model').size().sum()"
   ]
  },
  {
   "cell_type": "code",
   "execution_count": 54,
   "metadata": {},
   "outputs": [
    {
     "data": {
      "text/plain": [
       "45"
      ]
     },
     "execution_count": 54,
     "metadata": {},
     "output_type": "execute_result"
    }
   ],
   "source": [
    "car_sales_df[(car_sales_df['car']=='BMW') & (car_sales_df['engType']=='Petrol')].groupby('model').size().count()"
   ]
  },
  {
   "cell_type": "code",
   "execution_count": 55,
   "metadata": {},
   "outputs": [
    {
     "data": {
      "text/plain": [
       "24"
      ]
     },
     "execution_count": 55,
     "metadata": {},
     "output_type": "execute_result"
    }
   ],
   "source": [
    "\n",
    "car_sales_df[(car_sales_df['car']=='BMW') & (car_sales_df['engType']=='Diesel')].groupby('model').size().count()"
   ]
  },
  {
   "cell_type": "code",
   "execution_count": 56,
   "metadata": {},
   "outputs": [
    {
     "data": {
      "text/plain": [
       "267"
      ]
     },
     "execution_count": 56,
     "metadata": {},
     "output_type": "execute_result"
    }
   ],
   "source": [
    "car_sales_df[(car_sales_df['car']=='BMW') & (car_sales_df['engType']=='Diesel')].groupby('model').size().sum()"
   ]
  },
  {
   "cell_type": "code",
   "execution_count": 57,
   "metadata": {},
   "outputs": [
    {
     "data": {
      "text/plain": [
       "282"
      ]
     },
     "execution_count": 57,
     "metadata": {},
     "output_type": "execute_result"
    }
   ],
   "source": [
    "car_sales_df[(car_sales_df['car']=='Mercedes-Benz') & (car_sales_df['engType']=='Petrol')].groupby('model').size().sum()\n",
    "\n"
   ]
  },
  {
   "cell_type": "code",
   "execution_count": 58,
   "metadata": {},
   "outputs": [
    {
     "data": {
      "text/plain": [
       "59"
      ]
     },
     "execution_count": 58,
     "metadata": {},
     "output_type": "execute_result"
    }
   ],
   "source": [
    "car_sales_df[(car_sales_df['car']=='Mercedes-Benz') & (car_sales_df['engType']=='Petrol')].groupby('model').size().count()\n",
    "\n"
   ]
  },
  {
   "cell_type": "code",
   "execution_count": 59,
   "metadata": {},
   "outputs": [
    {
     "data": {
      "text/plain": [
       "60"
      ]
     },
     "execution_count": 59,
     "metadata": {},
     "output_type": "execute_result"
    }
   ],
   "source": [
    "car_sales_df[(car_sales_df['car']=='Mercedes-Benz') & (car_sales_df['engType']=='Diesel')].groupby('model').size().count()\n"
   ]
  },
  {
   "cell_type": "code",
   "execution_count": 60,
   "metadata": {},
   "outputs": [
    {
     "data": {
      "text/plain": [
       "508"
      ]
     },
     "execution_count": 60,
     "metadata": {},
     "output_type": "execute_result"
    }
   ],
   "source": [
    "\n",
    "car_sales_df[(car_sales_df['car']=='Mercedes-Benz') & (car_sales_df['engType']=='Diesel')].groupby('model').size().sum()"
   ]
  },
  {
   "cell_type": "markdown",
   "metadata": {},
   "source": [
    "### Observation\n",
    "- Volkswagen have 36 petrol model and its total sale is 291.\n",
    "- Volkswagen have 40 diesel model and its total sale is 529.\n",
    "- Mercedes-Benz have 59 petrol model and its total sale is 282.\n",
    "- Mercedes-Benz have 60 diesel model and its total sale is 508.\n",
    "- BMW have 45 petrol model and its total sale is 331.\n",
    "- BMW have 24 diesel model and its total sale is 267.\n",
    "\n",
    "BMW need to increase its diesel model to increase its sale."
   ]
  },
  {
   "cell_type": "markdown",
   "metadata": {},
   "source": [
    "<a id=section608></a>\n",
    "### <font color=blue> Q8 Which model with drive type is mostly preferred? </font>"
   ]
  },
  {
   "cell_type": "code",
   "execution_count": 61,
   "metadata": {},
   "outputs": [
    {
     "data": {
      "text/plain": [
       "130"
      ]
     },
     "execution_count": 61,
     "metadata": {},
     "output_type": "execute_result"
    }
   ],
   "source": [
    "car_sales_df[(car_sales_df['car']=='Volkswagen') & (car_sales_df['drive']=='full')].groupby('model').size().sum()\n"
   ]
  },
  {
   "cell_type": "code",
   "execution_count": 62,
   "metadata": {},
   "outputs": [
    {
     "data": {
      "text/plain": [
       "18"
      ]
     },
     "execution_count": 62,
     "metadata": {},
     "output_type": "execute_result"
    }
   ],
   "source": [
    "car_sales_df[(car_sales_df['car']=='Volkswagen') & (car_sales_df['drive']=='full')].groupby('model').size().count()\n",
    "\n"
   ]
  },
  {
   "cell_type": "code",
   "execution_count": 63,
   "metadata": {},
   "outputs": [
    {
     "data": {
      "text/plain": [
       "46"
      ]
     },
     "execution_count": 63,
     "metadata": {},
     "output_type": "execute_result"
    }
   ],
   "source": [
    "car_sales_df[(car_sales_df['car']=='Volkswagen') & (car_sales_df['drive']=='front')].groupby('model').size().count()\n",
    "\n"
   ]
  },
  {
   "cell_type": "code",
   "execution_count": 64,
   "metadata": {},
   "outputs": [
    {
     "data": {
      "text/plain": [
       "801"
      ]
     },
     "execution_count": 64,
     "metadata": {},
     "output_type": "execute_result"
    }
   ],
   "source": [
    "car_sales_df[(car_sales_df['car']=='Volkswagen') & (car_sales_df['drive']=='front')].groupby('model').size().sum()\n",
    "\n"
   ]
  },
  {
   "cell_type": "code",
   "execution_count": 65,
   "metadata": {},
   "outputs": [
    {
     "data": {
      "text/plain": [
       "3"
      ]
     },
     "execution_count": 65,
     "metadata": {},
     "output_type": "execute_result"
    }
   ],
   "source": [
    "car_sales_df[(car_sales_df['car']=='Volkswagen') & (car_sales_df['drive']=='rear')].groupby('model').size().count()\n",
    "\n"
   ]
  },
  {
   "cell_type": "code",
   "execution_count": 66,
   "metadata": {},
   "outputs": [
    {
     "data": {
      "text/plain": [
       "5"
      ]
     },
     "execution_count": 66,
     "metadata": {},
     "output_type": "execute_result"
    }
   ],
   "source": [
    "car_sales_df[(car_sales_df['car']=='Volkswagen') & (car_sales_df['drive']=='rear')].groupby('model').size().sum()\n",
    "\n"
   ]
  },
  {
   "cell_type": "code",
   "execution_count": 67,
   "metadata": {
    "scrolled": true
   },
   "outputs": [
    {
     "data": {
      "text/plain": [
       "291"
      ]
     },
     "execution_count": 67,
     "metadata": {},
     "output_type": "execute_result"
    }
   ],
   "source": [
    "car_sales_df[(car_sales_df['car']=='Mercedes-Benz') & (car_sales_df['drive']=='full')].groupby('model').size().sum()"
   ]
  },
  {
   "cell_type": "code",
   "execution_count": 68,
   "metadata": {},
   "outputs": [
    {
     "data": {
      "text/plain": [
       "46"
      ]
     },
     "execution_count": 68,
     "metadata": {},
     "output_type": "execute_result"
    }
   ],
   "source": [
    "car_sales_df[(car_sales_df['car']=='Mercedes-Benz') & (car_sales_df['drive']=='full')].groupby('model').size().count()\n"
   ]
  },
  {
   "cell_type": "code",
   "execution_count": 69,
   "metadata": {},
   "outputs": [
    {
     "data": {
      "text/plain": [
       "40"
      ]
     },
     "execution_count": 69,
     "metadata": {},
     "output_type": "execute_result"
    }
   ],
   "source": [
    "car_sales_df[(car_sales_df['car']=='Mercedes-Benz') & (car_sales_df['drive']=='front')].groupby('model').size().count()\n"
   ]
  },
  {
   "cell_type": "code",
   "execution_count": 70,
   "metadata": {},
   "outputs": [
    {
     "data": {
      "text/plain": [
       "150"
      ]
     },
     "execution_count": 70,
     "metadata": {},
     "output_type": "execute_result"
    }
   ],
   "source": [
    "car_sales_df[(car_sales_df['car']=='Mercedes-Benz') & (car_sales_df['drive']=='front')].groupby('model').size().sum()\n"
   ]
  },
  {
   "cell_type": "code",
   "execution_count": 71,
   "metadata": {},
   "outputs": [
    {
     "data": {
      "text/plain": [
       "67"
      ]
     },
     "execution_count": 71,
     "metadata": {},
     "output_type": "execute_result"
    }
   ],
   "source": [
    "car_sales_df[(car_sales_df['car']=='Mercedes-Benz') & (car_sales_df['drive']=='rear')].groupby('model').size().count()\n"
   ]
  },
  {
   "cell_type": "code",
   "execution_count": 72,
   "metadata": {},
   "outputs": [
    {
     "data": {
      "text/plain": [
       "479"
      ]
     },
     "execution_count": 72,
     "metadata": {},
     "output_type": "execute_result"
    }
   ],
   "source": [
    "car_sales_df[(car_sales_df['car']=='Mercedes-Benz') & (car_sales_df['drive']=='rear')].groupby('model').size().sum()\n"
   ]
  },
  {
   "cell_type": "code",
   "execution_count": 76,
   "metadata": {},
   "outputs": [
    {
     "data": {
      "text/plain": [
       "226"
      ]
     },
     "execution_count": 76,
     "metadata": {},
     "output_type": "execute_result"
    }
   ],
   "source": [
    "car_sales_df[(car_sales_df['car']=='BMW') & (car_sales_df['drive']=='full')].groupby('model').size().sum()"
   ]
  },
  {
   "cell_type": "code",
   "execution_count": 77,
   "metadata": {},
   "outputs": [
    {
     "data": {
      "text/plain": [
       "21"
      ]
     },
     "execution_count": 77,
     "metadata": {},
     "output_type": "execute_result"
    }
   ],
   "source": [
    "car_sales_df[(car_sales_df['car']=='BMW') & (car_sales_df['drive']=='full')].groupby('model').size().count()"
   ]
  },
  {
   "cell_type": "code",
   "execution_count": 78,
   "metadata": {},
   "outputs": [
    {
     "data": {
      "text/plain": [
       "25"
      ]
     },
     "execution_count": 78,
     "metadata": {},
     "output_type": "execute_result"
    }
   ],
   "source": [
    "car_sales_df[(car_sales_df['car']=='BMW') & (car_sales_df['drive']=='front')].groupby('model').size().count()"
   ]
  },
  {
   "cell_type": "code",
   "execution_count": 79,
   "metadata": {},
   "outputs": [
    {
     "data": {
      "text/plain": [
       "43"
      ]
     },
     "execution_count": 79,
     "metadata": {},
     "output_type": "execute_result"
    }
   ],
   "source": [
    "car_sales_df[(car_sales_df['car']=='BMW') & (car_sales_df['drive']=='front')].groupby('model').size().sum()"
   ]
  },
  {
   "cell_type": "code",
   "execution_count": 80,
   "metadata": {},
   "outputs": [
    {
     "data": {
      "text/plain": [
       "40"
      ]
     },
     "execution_count": 80,
     "metadata": {},
     "output_type": "execute_result"
    }
   ],
   "source": [
    "car_sales_df[(car_sales_df['car']=='BMW') & (car_sales_df['drive']=='rear')].groupby('model').size().count()"
   ]
  },
  {
   "cell_type": "code",
   "execution_count": 81,
   "metadata": {},
   "outputs": [
    {
     "data": {
      "text/plain": [
       "424"
      ]
     },
     "execution_count": 81,
     "metadata": {},
     "output_type": "execute_result"
    }
   ],
   "source": [
    "car_sales_df[(car_sales_df['car']=='BMW') & (car_sales_df['drive']=='rear')].groupby('model').size().sum()"
   ]
  },
  {
   "cell_type": "markdown",
   "metadata": {},
   "source": [
    "### Volkswagen\n",
    "- 3 model are present in Volkswagen with rear drive and its sum is 5\n",
    "- 18 model are present in Volkswagen with full drive and its sum is 130 among which Touareg model is sold 64 times\n",
    "- 44 model are present in Volkswagen with front drive and its sum is 744\n",
    "\n",
    "\n"
   ]
  },
  {
   "cell_type": "markdown",
   "metadata": {},
   "source": [
    "### Mercedes-Benz\n",
    "- 67 model are present in Mercedes-Benz with rear drive and its sum is 479\n",
    "- 46 model are present in Mercedes-Benz with full drive and its sum is 291\n",
    "- 22 model are present in Mercedes-Benz with front drive and its sum is 90"
   ]
  },
  {
   "cell_type": "markdown",
   "metadata": {},
   "source": [
    "### BMW\n",
    "- 40 model are present in BMW with rear drive and its sum is 424\n",
    "- 22 model are present in BMW with full drive and its sum is 227\n",
    "- 6 model are present in BMW with front drive and its sum is 7"
   ]
  },
  {
   "cell_type": "markdown",
   "metadata": {},
   "source": [
    "### Actionable Insight\n",
    "-  As people prefer front drive type more, BMW needs to manufacture model with front drive type to increase its sales."
   ]
  },
  {
   "cell_type": "markdown",
   "metadata": {},
   "source": [
    "<a id=section7></a>\n",
    "### <font color=blue>7. Conclusion</font>\n",
    "-  Price and Year are positively correlated , Price and Mileage are negatively correlated\n",
    "-  Most sellable cars are : Mercede-Benz, Volkwagen and BMW.\n",
    "-  car sale is increased from 2009 to 2012 and then decresed from 2012 to 2015.\n",
    "-  Most sold body type is Sedan (38%) and Crossover (22.5%)\n",
    "-  Share of petrol car is 46% and Deisel share is 32%\n",
    "-  Customer most preferred drive is Front Wheel Drive with 60% share followed by Full Wheel Drive with 26% share\n",
    "\n",
    "-  Car with price less than 20K are sold most with a share of 69%\n",
    "-  Car with <20k ,full-wheel drive and body type-sedan and crossover are mostly preferred.\n",
    "-  Petrol car share for price range less than 20K is 49%\n",
    "-  Front Wheel Drive Car share for price range less than 20K is 79%\n",
    "-  Sedan, Crossover and Hatch Body share for price range less than 20K is 70%\n",
    "-  Most sellable car is Front Drive Sedan followed by Full Drive Crossover\n",
    "\n",
    "\n",
    "-  when mileage is zero then crossover body type is sold most and it is 58%\n",
    "-  costliest car among all car is Bently and sold in year 2016\n",
    "\n",
    "-  Most sellable car is Volkswagen with sedan/crossover body,front drive.\n",
    "-  Comparatively, BMW sales was always less compared to Volkswagen and Mercedes."
   ]
  },
  {
   "cell_type": "markdown",
   "metadata": {},
   "source": [
    "<a id=section8></a>\n",
    "### <font color=blue>8. Actionable Insight</font>\n",
    "BMW needs to manufacture model with below features to increase its sales.\n",
    "-  __Diesel Engine__\n",
    "-  __Front Wheel Drive__\n",
    "-  __Sedan/Crossover Body__"
   ]
  }
 ],
 "metadata": {
  "kernelspec": {
   "display_name": "Python 3",
   "language": "python",
   "name": "python3"
  },
  "language_info": {
   "codemirror_mode": {
    "name": "ipython",
    "version": 3
   },
   "file_extension": ".py",
   "mimetype": "text/x-python",
   "name": "python",
   "nbconvert_exporter": "python",
   "pygments_lexer": "ipython3",
   "version": "3.7.1"
  }
 },
 "nbformat": 4,
 "nbformat_minor": 2
}
