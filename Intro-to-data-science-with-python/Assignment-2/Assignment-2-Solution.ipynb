{
 "cells": [
  {
   "cell_type": "markdown",
   "metadata": {},
   "source": [
    "---\n",
    "\n",
    "_You are currently looking at **version 1.2** of this notebook. To download notebooks and datafiles, as well as get help on Jupyter notebooks in the Coursera platform, visit the [Jupyter Notebook FAQ](https://www.coursera.org/learn/python-data-analysis/resources/0dhYG) course resource._\n",
    "\n",
    "---"
   ]
  },
  {
   "cell_type": "code",
   "execution_count": 2,
   "metadata": {
    "nbgrader": {
     "grade": false,
     "grade_id": "1",
     "locked": false,
     "solution": false
    },
    "umich_question": "prolog-000"
   },
   "outputs": [
    {
     "data": {
      "text/html": [
       "<div>\n",
       "<table border=\"1\" class=\"dataframe\">\n",
       "  <thead>\n",
       "    <tr style=\"text-align: right;\">\n",
       "      <th></th>\n",
       "      <th># Summer</th>\n",
       "      <th>Gold</th>\n",
       "      <th>Silver</th>\n",
       "      <th>Bronze</th>\n",
       "      <th>Total</th>\n",
       "      <th># Winter</th>\n",
       "      <th>Gold.1</th>\n",
       "      <th>Silver.1</th>\n",
       "      <th>Bronze.1</th>\n",
       "      <th>Total.1</th>\n",
       "      <th># Games</th>\n",
       "      <th>Gold.2</th>\n",
       "      <th>Silver.2</th>\n",
       "      <th>Bronze.2</th>\n",
       "      <th>Combined total</th>\n",
       "      <th>ID</th>\n",
       "    </tr>\n",
       "  </thead>\n",
       "  <tbody>\n",
       "    <tr>\n",
       "      <th>Afghanistan</th>\n",
       "      <td>13</td>\n",
       "      <td>0</td>\n",
       "      <td>0</td>\n",
       "      <td>2</td>\n",
       "      <td>2</td>\n",
       "      <td>0</td>\n",
       "      <td>0</td>\n",
       "      <td>0</td>\n",
       "      <td>0</td>\n",
       "      <td>0</td>\n",
       "      <td>13</td>\n",
       "      <td>0</td>\n",
       "      <td>0</td>\n",
       "      <td>2</td>\n",
       "      <td>2</td>\n",
       "      <td>AFG</td>\n",
       "    </tr>\n",
       "    <tr>\n",
       "      <th>Algeria</th>\n",
       "      <td>12</td>\n",
       "      <td>5</td>\n",
       "      <td>2</td>\n",
       "      <td>8</td>\n",
       "      <td>15</td>\n",
       "      <td>3</td>\n",
       "      <td>0</td>\n",
       "      <td>0</td>\n",
       "      <td>0</td>\n",
       "      <td>0</td>\n",
       "      <td>15</td>\n",
       "      <td>5</td>\n",
       "      <td>2</td>\n",
       "      <td>8</td>\n",
       "      <td>15</td>\n",
       "      <td>ALG</td>\n",
       "    </tr>\n",
       "    <tr>\n",
       "      <th>Argentina</th>\n",
       "      <td>23</td>\n",
       "      <td>18</td>\n",
       "      <td>24</td>\n",
       "      <td>28</td>\n",
       "      <td>70</td>\n",
       "      <td>18</td>\n",
       "      <td>0</td>\n",
       "      <td>0</td>\n",
       "      <td>0</td>\n",
       "      <td>0</td>\n",
       "      <td>41</td>\n",
       "      <td>18</td>\n",
       "      <td>24</td>\n",
       "      <td>28</td>\n",
       "      <td>70</td>\n",
       "      <td>ARG</td>\n",
       "    </tr>\n",
       "    <tr>\n",
       "      <th>Armenia</th>\n",
       "      <td>5</td>\n",
       "      <td>1</td>\n",
       "      <td>2</td>\n",
       "      <td>9</td>\n",
       "      <td>12</td>\n",
       "      <td>6</td>\n",
       "      <td>0</td>\n",
       "      <td>0</td>\n",
       "      <td>0</td>\n",
       "      <td>0</td>\n",
       "      <td>11</td>\n",
       "      <td>1</td>\n",
       "      <td>2</td>\n",
       "      <td>9</td>\n",
       "      <td>12</td>\n",
       "      <td>ARM</td>\n",
       "    </tr>\n",
       "    <tr>\n",
       "      <th>Australasia</th>\n",
       "      <td>2</td>\n",
       "      <td>3</td>\n",
       "      <td>4</td>\n",
       "      <td>5</td>\n",
       "      <td>12</td>\n",
       "      <td>0</td>\n",
       "      <td>0</td>\n",
       "      <td>0</td>\n",
       "      <td>0</td>\n",
       "      <td>0</td>\n",
       "      <td>2</td>\n",
       "      <td>3</td>\n",
       "      <td>4</td>\n",
       "      <td>5</td>\n",
       "      <td>12</td>\n",
       "      <td>ANZ</td>\n",
       "    </tr>\n",
       "  </tbody>\n",
       "</table>\n",
       "</div>"
      ],
      "text/plain": [
       "             # Summer  Gold  Silver  Bronze  Total  # Winter  Gold.1  \\\n",
       "Afghanistan        13     0       0       2      2         0       0   \n",
       "Algeria            12     5       2       8     15         3       0   \n",
       "Argentina          23    18      24      28     70        18       0   \n",
       "Armenia             5     1       2       9     12         6       0   \n",
       "Australasia         2     3       4       5     12         0       0   \n",
       "\n",
       "             Silver.1  Bronze.1  Total.1  # Games  Gold.2  Silver.2  Bronze.2  \\\n",
       "Afghanistan         0         0        0       13       0         0         2   \n",
       "Algeria             0         0        0       15       5         2         8   \n",
       "Argentina           0         0        0       41      18        24        28   \n",
       "Armenia             0         0        0       11       1         2         9   \n",
       "Australasia         0         0        0        2       3         4         5   \n",
       "\n",
       "             Combined total   ID  \n",
       "Afghanistan               2  AFG  \n",
       "Algeria                  15  ALG  \n",
       "Argentina                70  ARG  \n",
       "Armenia                  12  ARM  \n",
       "Australasia              12  ANZ  "
      ]
     },
     "execution_count": 2,
     "metadata": {},
     "output_type": "execute_result"
    }
   ],
   "source": [
    "import pandas as pd\n",
    "\n",
    "df = pd.read_csv('olympics.csv', index_col=0, skiprows=1)\n",
    "\n",
    "for col in df.columns:\n",
    "    if col[:2]=='01':\n",
    "        df.rename(columns={col:'Gold'+col[4:]}, inplace=True)\n",
    "    if col[:2]=='02':\n",
    "        df.rename(columns={col:'Silver'+col[4:]}, inplace=True)\n",
    "    if col[:2]=='03':\n",
    "        df.rename(columns={col:'Bronze'+col[4:]}, inplace=True)\n",
    "    if col[:1]=='№':\n",
    "        df.rename(columns={col:'#'+col[1:]}, inplace=True)\n",
    "\n",
    "names_ids = df.index.str.split('\\s\\(') # split the index by '('\n",
    "\n",
    "df.index = names_ids.str[0] # the [0] element is the country name (new index) \n",
    "df['ID'] = names_ids.str[1].str[:3] # the [1] element is the abbreviation or ID (take first 3 characters from that)\n",
    "\n",
    "df = df.drop('Totals')\n",
    "df.head()"
   ]
  },
  {
   "cell_type": "code",
   "execution_count": 3,
   "metadata": {
    "umich_question": "000"
   },
   "outputs": [
    {
     "data": {
      "text/plain": [
       "# Summer           13\n",
       "Gold                0\n",
       "Silver              0\n",
       "Bronze              2\n",
       "Total               2\n",
       "# Winter            0\n",
       "Gold.1              0\n",
       "Silver.1            0\n",
       "Bronze.1            0\n",
       "Total.1             0\n",
       "# Games            13\n",
       "Gold.2              0\n",
       "Silver.2            0\n",
       "Bronze.2            2\n",
       "Combined total      2\n",
       "ID                AFG\n",
       "Name: Afghanistan, dtype: object"
      ]
     },
     "execution_count": 3,
     "metadata": {},
     "output_type": "execute_result"
    }
   ],
   "source": [
    "# You should write your whole answer within the function provided. The autograder will call\n",
    "# this function and compare the return value against the correct solution value\n",
    "def answer_zero():\n",
    "    # This function returns the row for Afghanistan, which is a Series object. The assignment\n",
    "    # question description will tell you the general format the autograder is expecting\n",
    "    return df.iloc[0]\n",
    "\n",
    "# You can examine what your function returns by calling it in the cell. If you have questions\n",
    "# about the assignment formats, check out the discussion forums for any FAQs\n",
    "answer_zero() "
   ]
  },
  {
   "cell_type": "code",
   "execution_count": 4,
   "metadata": {
    "collapsed": true,
    "nbgrader": {
     "grade": false,
     "locked": false,
     "solution": false
    },
    "umich_part_id": "001",
    "umich_partlist_id": "001"
   },
   "outputs": [],
   "source": [
    "def answer_one():\n",
    "    return df['Gold'].idxmax()"
   ]
  },
  {
   "cell_type": "code",
   "execution_count": 5,
   "metadata": {
    "collapsed": true,
    "umich_part_id": "002",
    "umich_partlist_id": "001"
   },
   "outputs": [],
   "source": [
    "def answer_two():\n",
    "    return df[['Gold','Gold.1']].max(1).idxmax()"
   ]
  },
  {
   "cell_type": "code",
   "execution_count": 6,
   "metadata": {
    "collapsed": true,
    "umich_part_id": "003",
    "umich_partlist_id": "001"
   },
   "outputs": [],
   "source": [
    "def answer_three():\n",
    "    df_new=df[(df['Gold'] >= 1) & (df['Gold.1'] >= 1)][['Gold','Gold.1','Gold.2']]\n",
    "    return df_new[['Gold','Gold.1']].max(1).divide(df_new['Gold.2'], axis='rows').idxmax()"
   ]
  },
  {
   "cell_type": "code",
   "execution_count": 7,
   "metadata": {
    "collapsed": true,
    "umich_part_id": "004",
    "umich_partlist_id": "001"
   },
   "outputs": [],
   "source": [
    "def answer_four():\n",
    "    df['Points'] = pd.Series(df['Gold.2'])*3 + pd.Series(df['Silver.2'])*2 + pd.Series(df['Bronze.2'])*1 \n",
    "    return df['Points']"
   ]
  },
  {
   "cell_type": "code",
   "execution_count": 8,
   "metadata": {
    "collapsed": true,
    "umich_part_id": "005",
    "umich_partlist_id": "002"
   },
   "outputs": [],
   "source": [
    "def answer_five():\n",
    "    # create a new df which have 3 required columns\n",
    "    new_df = census_df[['SUMLEV','STNAME','CTYNAME']]\n",
    "    \n",
    "    # create a unique state list \n",
    "    state_list = census_df[census_df['SUMLEV']==40][['STNAME']]\n",
    "    \n",
    "    # create a df with the state list and county count\n",
    "    state_df = pd.DataFrame(state_list)\n",
    "    \n",
    "    # assign all value of county count to zero\n",
    "    state_df['county_count']=0\n",
    "    \n",
    "    # set index of state_df to state names\n",
    "    state_df.set_index('STNAME', inplace=True)\n",
    "    \n",
    "    # iterate over each state and get the count of city name and assign it to county count of each state\n",
    "    for state in state_df.index:\n",
    "        countycount = new_df[new_df['STNAME'] == state]['CTYNAME'].count()\n",
    "        state_df['county_count'].loc[state] = countycount\n",
    "    \n",
    "    # get the index of maximum county count as string\n",
    "    return state_df['county_count'].idxmax()"
   ]
  },
  {
   "cell_type": "code",
   "execution_count": 9,
   "metadata": {
    "collapsed": true
   },
   "outputs": [],
   "source": [
    " \n",
    "def answer_six():\n",
    "    only_counties = census_df.where(census_df['SUMLEV'] == 50)\n",
    "    only_counties = only_counties.dropna()\n",
    "    columns_to_keep = ['STNAME', 'CTYNAME', 'CENSUS2010POP']\n",
    "    only_counties = only_counties[columns_to_keep]\n",
    "    only_counties = only_counties.set_index('STNAME')\n",
    "    only_counties.sort_values('CENSUS2010POP', ascending=False, inplace=True)\n",
    "    d = {}\n",
    "    for i in range(len(only_counties)):\n",
    "        state = only_counties.iloc[i].name\n",
    "        try:\n",
    "            if len(d[state]) < 3:\n",
    "                d[state].append(only_counties.iloc[i]['CENSUS2010POP'])\n",
    "        except KeyError:\n",
    "            d[state] = []\n",
    "            d[state].append(only_counties.iloc[i]['CENSUS2010POP'])\n",
    "    for state in d:\n",
    "        d[state] = sum(d[state])\n",
    "    ans = []\n",
    "    newdf = pd.DataFrame(d, index=range(0,len(d)))\n",
    "    newdf = newdf.T[0]\n",
    "    newdf = newdf.sort_values(ascending=False)\n",
    "    for i in range(3):\n",
    "        ans.append(newdf[newdf == newdf.iloc[i]].index[0])\n",
    "    return ans"
   ]
  },
  {
   "cell_type": "code",
   "execution_count": 10,
   "metadata": {
    "collapsed": true,
    "umich_part_id": "006",
    "umich_partlist_id": "002"
   },
   "outputs": [],
   "source": [
    "def answer_six():\n",
    "    # create a new df which have 3 required columns    \n",
    "    new_df = census_df[['STNAME','CTYNAME','CENSUS2010POP']]\n",
    "\n",
    "    # create a unique state list \n",
    "    state_list = census_df[census_df['SUMLEV']==40][['STNAME']]\n",
    "\n",
    "    # create a df with the state list and population\n",
    "    state_df = pd.DataFrame(state_list)\n",
    "    # assign population to zero for all states\n",
    "    state_df['population'] = 0\n",
    "\n",
    "    # set index of state_df to state names\n",
    "    state_df.set_index('STNAME', inplace=True)\n",
    "\n",
    "    # get top 3 populous city for each state   \n",
    "\n",
    "    for state in state_df.index:\n",
    "        stsum=0\n",
    "\n",
    "         # get top 3 populous city for each state                 \n",
    "        top3city_pop = new_df[new_df['STNAME'] == state].sort_values(by='CENSUS2010POP', ascending=False)['CENSUS2010POP']\n",
    "        if type(top3city_pop) == pd.Series:\n",
    "          stsum = sum(top3city_pop[0:3])\n",
    "        else:\n",
    "          stsum = top3city_pop[0]\n",
    "        # get sum of top 3 city and store in population for each state\n",
    "        state_df['population'].loc[state] = stsum\n",
    "    \n",
    "    #state_df\n",
    "    state_df = state_df.reset_index()\n",
    "    state_df = state_df.sort_values(by='population', ascending=False)\n",
    "\n",
    "\n",
    "    return state_df['STNAME'][0:3].tolist()"
   ]
  },
  {
   "cell_type": "code",
   "execution_count": 11,
   "metadata": {
    "collapsed": true,
    "umich_part_id": "007",
    "umich_partlist_id": "002"
   },
   "outputs": [],
   "source": [
    "def answer_seven():\n",
    "    only_counties = census_df.where(census_df['SUMLEV'] == 50)\n",
    "    only_counties = only_counties.dropna()\n",
    "    columns_to_keep = ['CTYNAME', 'POPESTIMATE2010', 'POPESTIMATE2011', \n",
    "                       'POPESTIMATE2012', 'POPESTIMATE2013', 'POPESTIMATE2014', 'POPESTIMATE2015']\n",
    "    only_counties = only_counties[columns_to_keep]\n",
    "    only_counties = only_counties.set_index('CTYNAME')\n",
    "    amax = 0\n",
    "    ans = \"\"\n",
    "    for i in range(len(only_counties)):\n",
    "        popl = []\n",
    "        popl.append(only_counties.iloc[i]['POPESTIMATE2010'])\n",
    "        popl.append(only_counties.iloc[i]['POPESTIMATE2011'])\n",
    "        popl.append(only_counties.iloc[i]['POPESTIMATE2012'])\n",
    "        popl.append(only_counties.iloc[i]['POPESTIMATE2013'])\n",
    "        popl.append(only_counties.iloc[i]['POPESTIMATE2014'])\n",
    "        popl.append(only_counties.iloc[i]['POPESTIMATE2015'])\n",
    "        diff = max(popl) - min(popl)\n",
    "        if amax < diff:\n",
    "            amax = diff\n",
    "            ans = only_counties.iloc[i].name\n",
    "    return ans"
   ]
  },
  {
   "cell_type": "code",
   "execution_count": 12,
   "metadata": {
    "collapsed": true,
    "umich_part_id": "008",
    "umich_partlist_id": "002"
   },
   "outputs": [],
   "source": [
    "def answer_eight():\n",
    "    return census_df[((census_df['REGION']==1) | (census_df['REGION']==2)) & \n",
    "                     (census_df['POPESTIMATE2015'] > census_df['POPESTIMATE2014']) & \n",
    "                     census_df['CTYNAME'].str.startswith('Washington')][['STNAME','CTYNAME']]"
   ]
  },
  {
   "cell_type": "code",
   "execution_count": null,
   "metadata": {
    "collapsed": true
   },
   "outputs": [],
   "source": []
  }
 ],
 "metadata": {
  "anaconda-cloud": {},
  "coursera": {
   "course_slug": "python-data-analysis",
   "graded_item_id": "tHmgx",
   "launcher_item_id": "Um6Bz",
   "part_id": "OQsnr"
  },
  "kernelspec": {
   "display_name": "Python 3",
   "language": "python",
   "name": "python3"
  },
  "language_info": {
   "codemirror_mode": {
    "name": "ipython",
    "version": 3
   },
   "file_extension": ".py",
   "mimetype": "text/x-python",
   "name": "python",
   "nbconvert_exporter": "python",
   "pygments_lexer": "ipython3",
   "version": "3.6.2"
  },
  "umich": {
   "id": "Assignment 2",
   "version": "1.2"
  }
 },
 "nbformat": 4,
 "nbformat_minor": 1
}
