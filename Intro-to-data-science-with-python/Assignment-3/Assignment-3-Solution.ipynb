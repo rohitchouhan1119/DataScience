{
 "cells": [
  {
   "cell_type": "code",
   "execution_count": 77,
   "metadata": {
    "collapsed": true
   },
   "outputs": [],
   "source": [
    "import pandas as pd\n",
    "import numpy as np"
   ]
  },
  {
   "cell_type": "code",
   "execution_count": 78,
   "metadata": {
    "collapsed": true
   },
   "outputs": [],
   "source": [
    "def petaToGiga(row):\n",
    "    row['Energy Supply'] *= 1000000\n",
    "    return row"
   ]
  },
  {
   "cell_type": "code",
   "execution_count": 79,
   "metadata": {
    "collapsed": true
   },
   "outputs": [],
   "source": [
    "def getData():\n",
    "#Reading and parsing energy ('Energy Indicators.xls')\n",
    "    energy = pd.read_excel('Energy Indicators.xls', header=None, skip_footer=2)\n",
    "    #print (energy)\n",
    "    energy = (energy.drop([0, 1], axis=1) #Remove first two columns\n",
    "                     .dropna() #drop NaN's\n",
    "                     .drop(9)\n",
    "                     .rename(columns={2: 'Country', #Renaming columns\n",
    "                                      3: 'Energy Supply',\n",
    "                                      4: 'Energy Supply per Capita',\n",
    "                                      5: '% Renewable'})\n",
    "                     .replace(regex=True, to_replace=[r'\\d', r' \\(([^)]+)\\)'], value=r'') #Pruning in country names\n",
    "                     .replace(to_replace=[\"...\", \"Republic of Korea\", \"United States of America\", #Replace ... with NaN and country names\n",
    "                                         \"United Kingdom of Great Britain and Northern Ireland\",\n",
    "                                         \"China, Hong Kong Special Administrative Region\"],\n",
    "                              value=[np.NaN, \"South Korea\", \"United States\", \"United Kingdom\", \"Hong Kong\"])\n",
    "                     .apply(petaToGiga, axis=1,)) #convert petajoules to giga joules\n",
    "    #print (energy)\n",
    "#Reading GDP ('world_bank.csv')\n",
    "    GDP = pd.read_csv('world_bank.csv', header=None, skiprows=4)\n",
    "    GDP = (GDP.rename(columns=GDP.iloc[0])\n",
    "              .drop(0)\n",
    "              .replace(to_replace=[\"Korea, Rep.\", \"Iran, Islamic Rep.\", \"Hong Kong SAR, China\"],\n",
    "                       value=[\"South Korea\", \"Iran\", \"Hong Kong\"])\n",
    "              .rename(columns={2006: '2006', 2007: '2007', 2008: '2008', 2009: '2009', 2010: '2010',\n",
    "                                    2011: '2011', 2012: '2012', 2013: '2013', 2014: '2014', 2015: '2015'}))\n",
    "#Reading ScimEn('scimagojr-3.xlsx')\n",
    "    ScimEn = pd.read_excel('scimagojr-3.xlsx')\n",
    "    return energy, GDP, ScimEn\n"
   ]
  },
  {
   "cell_type": "code",
   "execution_count": 80,
   "metadata": {
    "collapsed": true
   },
   "outputs": [],
   "source": [
    "def answer_one():\n",
    "    energy, GDP, ScimEn = getData()\n",
    "    energy = energy.dropna()\n",
    "    GDP_columns = ['Country Name', '2006', '2007', '2008', '2009', '2010', '2011', '2012', '2013', '2014', '2015']\n",
    "    GDP = GDP[GDP_columns] #Prune GDP\n",
    "    ScimEn_columns = ['Rank', 'Country', 'Documents', 'Citable documents', 'Citations', 'Self-citations', 'Citations per document', 'H index']\n",
    "    ScimEn = ScimEn[ScimEn_columns]\n",
    "    ScimEn = ScimEn[:15] #Prune ScimEn\n",
    "#Merging and cleaning dataframes\n",
    "    new = pd.merge(energy, GDP, how=\"inner\", left_on=\"Country\", right_on=\"Country Name\")\n",
    "    new = new.drop(['Country Name'], axis=1)\n",
    "    new = pd.merge(new, ScimEn, how=\"inner\", left_on='Country', right_on='Country')\n",
    "    new = new.set_index('Country')\n",
    "    columns = ['Rank', 'Documents', 'Citable documents', 'Citations', 'Self-citations', 'Citations per document', 'H index', 'Energy Supply', 'Energy Supply per Capita', '% Renewable', '2006', '2007', '2008', '2009', '2010', '2011', '2012', '2013', '2014', '2015']\n",
    "    new = new[columns]\n",
    "    return new"
   ]
  },
  {
   "cell_type": "code",
   "execution_count": 82,
   "metadata": {
    "collapsed": true,
    "umich_part_id": "010",
    "umich_partlist_id": "003"
   },
   "outputs": [],
   "source": [
    "def answer_two():\n",
    "    energy, GDP, ScimEn = getData()\n",
    "    m1 = pd.merge(energy, GDP, how='inner', left_on='Country', right_on='Country Name')\n",
    "    m2 = pd.merge(energy, ScimEn, how='inner', left_on='Country', right_on='Country')\n",
    "    m3 = pd.merge(GDP, ScimEn, how='inner', left_on='Country Name', right_on='Country')\n",
    "    actual = pd.merge(m1, ScimEn, how='inner', left_on='Country', right_on='Country')\n",
    "    energy_len = len(energy.index)\n",
    "    GDP_len = len(GDP.index)\n",
    "    SccimEn_len = len(ScimEn.index)\n",
    "    m1_len = len(m1.index)\n",
    "    m2_len = len(m2.index)\n",
    "    m3_len = len(m3.index)\n",
    "    actual_len = len(actual.index)\n",
    "    ans = energy_len + GDP_len + SccimEn_len - m1_len - m2_len - m3_len + actual_len\n",
    "    return ans"
   ]
  },
  {
   "cell_type": "code",
   "execution_count": 83,
   "metadata": {
    "collapsed": true
   },
   "outputs": [],
   "source": [
    "def avg(row):\n",
    "    data = row[['2006', '2007', '2008', '2009', '2010', '2011', '2012', '2013', '2014', '2015']]\n",
    "    return np.average(data)"
   ]
  },
  {
   "cell_type": "code",
   "execution_count": 84,
   "metadata": {
    "collapsed": true,
    "scrolled": true,
    "umich_part_id": "011",
    "umich_partlist_id": "003"
   },
   "outputs": [],
   "source": [
    "def answer_three():\n",
    "    Top15 = answer_one()\n",
    "    avgGDP = Top15.apply(avg, axis=1)\n",
    "    avgGDP.sort(ascending=False)\n",
    "    return avgGDP"
   ]
  },
  {
   "cell_type": "code",
   "execution_count": 85,
   "metadata": {
    "collapsed": true,
    "scrolled": true,
    "umich_part_id": "012",
    "umich_partlist_id": "003"
   },
   "outputs": [],
   "source": [
    "def answer_four():\n",
    "    Top15 = answer_one()\n",
    "    avgGDP = answer_three()\n",
    "    country = avgGDP.keys()[5] \n",
    "    return Top15.loc[country, '2015'] - Top15.loc[country, '2006']"
   ]
  },
  {
   "cell_type": "code",
   "execution_count": 86,
   "metadata": {
    "collapsed": true,
    "umich_part_id": "013",
    "umich_partlist_id": "003"
   },
   "outputs": [],
   "source": [
    "def answer_five():\n",
    "    Top15 = answer_one()\n",
    "    ans = np.average(Top15['Energy Supply per Capita'])\n",
    "    return float(ans)"
   ]
  },
  {
   "cell_type": "code",
   "execution_count": 87,
   "metadata": {
    "collapsed": true,
    "umich_part_id": "014",
    "umich_partlist_id": "003"
   },
   "outputs": [],
   "source": [
    "def answer_six():\n",
    "    Top15 = answer_one()\n",
    "    m = np.max(Top15['% Renewable'])\n",
    "    country = Top15[ Top15['% Renewable'] == m ].iloc[0].name\n",
    "    return country, m"
   ]
  },
  {
   "cell_type": "code",
   "execution_count": 88,
   "metadata": {
    "collapsed": true,
    "umich_part_id": "015",
    "umich_partlist_id": "003"
   },
   "outputs": [],
   "source": [
    "def answer_seven():\n",
    "    Top15 = answer_one()\n",
    "    Top15['citation_ration'] = Top15['Self-citations'] / Top15['Citations']\n",
    "    m = np.max(Top15['citation_ration'])\n",
    "    country = Top15[Top15['citation_ration'] == m].iloc[0].name\n",
    "    return country, m"
   ]
  },
  {
   "cell_type": "code",
   "execution_count": 89,
   "metadata": {
    "collapsed": true,
    "umich_part_id": "016",
    "umich_partlist_id": "003"
   },
   "outputs": [],
   "source": [
    "def answer_eight():\n",
    "    Top15 = answer_one()\n",
    "    Top15['population_ratio'] = Top15['Energy Supply'] / Top15['Energy Supply per Capita']\n",
    "    Top15 = Top15.sort(['population_ratio'], ascending=False)\n",
    "    return Top15.index[2]"
   ]
  },
  {
   "cell_type": "code",
   "execution_count": 90,
   "metadata": {
    "collapsed": true,
    "umich_part_id": "017",
    "umich_partlist_id": "003"
   },
   "outputs": [],
   "source": [
    "def answer_nine():\n",
    "    Top15 = answer_one()\n",
    "    Top15['population'] = Top15['Energy Supply'] / Top15['Energy Supply per Capita']\n",
    "    Top15['citation document per person'] = Top15['Citable documents'] / Top15['population']\n",
    "    Top15 = Top15.corr(method='pearson')\n",
    "    return Top15.loc['Energy Supply per Capita', 'citation document per person']"
   ]
  },
  {
   "cell_type": "code",
   "execution_count": 91,
   "metadata": {
    "collapsed": true
   },
   "outputs": [],
   "source": [
    "def plot9():\n",
    "    import matplotlib as plt\n",
    "    %matplotlib inline\n",
    "    \n",
    "    Top15 = answer_one()\n",
    "    Top15['PopEst'] = Top15['Energy Supply'] / Top15['Energy Supply per Capita']\n",
    "    Top15['Citable docs per Capita'] = Top15['Citable documents'] / Top15['PopEst']\n",
    "    Top15.plot(x='Citable docs per Capita', y='Energy Supply per Capita', kind='scatter', xlim=[0, 0.0006])"
   ]
  },
  {
   "cell_type": "code",
   "execution_count": null,
   "metadata": {
    "collapsed": true,
    "umich_part_id": "018",
    "umich_partlist_id": "003"
   },
   "outputs": [],
   "source": [
    "def answer_ten():\n",
    "    Top15 = answer_one()\n",
    "    median = np.median(Top15['% Renewable'])\n",
    "    for i in range(len(Top15)):\n",
    "        if Top15.iloc[i]['% Renewable'] >= median:\n",
    "            Top15.set_value(Top15.iloc[i].name, 'HighRenew', 1)\n",
    "        else:\n",
    "            Top15.set_value(Top15.iloc[i].name, 'HighRenew', 0)\n",
    "    Top15 = Top15['HighRenew']\n",
    "    return Top15.sort(inplace=False)"
   ]
  },
  {
   "cell_type": "code",
   "execution_count": 96,
   "metadata": {
    "collapsed": true
   },
   "outputs": [],
   "source": [
    "ContinentDict  = {'China':'Asia',\n",
    "                  'United States':'North America',\n",
    "                  'Japan':'Asia',\n",
    "                  'United Kingdom':'Europe',\n",
    "                  'Russian Federation':'Europe',\n",
    "                  'Canada':'North America',\n",
    "                  'Germany':'Europe',\n",
    "                  'India':'Asia',\n",
    "                  'France':'Europe',\n",
    "                  'South Korea':'Asia',\n",
    "                  'Italy':'Europe',\n",
    "                  'Spain':'Europe',\n",
    "                  'Iran':'Asia',\n",
    "                  'Australia':'Australia',\n",
    "                  'Brazil':'South America'}"
   ]
  },
  {
   "cell_type": "code",
   "execution_count": 97,
   "metadata": {
    "collapsed": true,
    "umich_part_id": "019",
    "umich_partlist_id": "003"
   },
   "outputs": [],
   "source": [
    "def answer_eleven():\n",
    "    Top15 = answer_one()\n",
    "    Top15['PopEst'] = Top15['Energy Supply'] / Top15['Energy Supply per Capita']\n",
    "    for i in range(len(Top15)):\n",
    "        country = Top15.iloc[i].name\n",
    "        Top15.set_value(country, 'Continent', ContinentDict[country])\n",
    "    Top15 = (Top15.reset_index(level=0)\n",
    "                 .set_index(['Continent', 'Country']))\n",
    "    Top15 = Top15.groupby(level=0)['PopEst'].agg({'size': np.size, 'sum': np.sum, 'mean': np.average, 'std': np.std})\n",
    "    return Top15"
   ]
  },
  {
   "cell_type": "code",
   "execution_count": null,
   "metadata": {
    "collapsed": true,
    "scrolled": true
   },
   "outputs": [],
   "source": [
    "def answer_twelve():\n",
    "    Top15 = answer_one()\n",
    "    for i in range(len(Top15)):\n",
    "        country = Top15.iloc[i].name\n",
    "        Top15.set_value(country, 'Continent', ContinentDict[country])\n",
    "    Top15 = (Top15.reset_index(level=0)\n",
    "                 .set_index(['Continent', 'Country']))\n",
    "    Top15 = pd.cut(Top15['% Renewable'], 5)\n",
    "    Top15 = (Top15.reset_index()\n",
    "                .set_index(['Continent', '% Renewable']))\n",
    "    Top15 = Top15.groupby(level=['Continent', '% Renewable']).size()\n",
    "    return Top15"
   ]
  },
  {
   "cell_type": "code",
   "execution_count": null,
   "metadata": {
    "collapsed": true,
    "scrolled": true,
    "umich_part_id": "020",
    "umich_partlist_id": "003"
   },
   "outputs": [],
   "source": [
    "def answer_thirteen():\n",
    "    Top15 = answer_one()\n",
    "    Top15['PopEst'] = Top15['Energy Supply'] / Top15['Energy Supply per Capita']\n",
    "    Top15 = Top15['PopEst']\n",
    "    for i in range(len(Top15)):\n",
    "        country = Top15.keys()[i]\n",
    "        number = \"{:,}\".format((Top15.iloc[i]))\n",
    "        Top15.replace(Top15.iloc[i], number, inplace=True)\n",
    "    return Top15"
   ]
  },
  {
   "cell_type": "code",
   "execution_count": null,
   "metadata": {
    "collapsed": true,
    "scrolled": true
   },
   "outputs": [],
   "source": [
    "def plot_optional():\n",
    "    import matplotlib as plt\n",
    "    %matplotlib inline\n",
    "    Top15 = answer_one()\n",
    "    ax = Top15.plot(x='Rank', y='% Renewable', kind='scatter', \n",
    "                    c=['#e41a1c','#377eb8','#e41a1c','#4daf4a','#4daf4a','#377eb8','#4daf4a','#e41a1c',\n",
    "                       '#4daf4a','#e41a1c','#4daf4a','#4daf4a','#e41a1c','#dede00','#ff7f00'], \n",
    "                    xticks=range(1,16), s=6*Top15['2014']/10**10, alpha=.75, figsize=[16,6]);\n",
    "\n",
    "    for i, txt in enumerate(Top15.index):\n",
    "        ax.annotate(txt, [Top15['Rank'][i], Top15['% Renewable'][i]], ha='center')\n",
    "\n",
    "    print(\"This is an example of a visualization that can be created to help understand the data. \\\n",
    "This is a bubble chart showing % Renewable vs. Rank. The size of the bubble corresponds to the countries' \\\n",
    "2014 GDP, and the color corresponds to the continent.\")"
   ]
  }
 ],
 "metadata": {
  "kernelspec": {
   "display_name": "Python 3",
   "language": "python",
   "name": "python3"
  },
  "language_info": {
   "codemirror_mode": {
    "name": "ipython",
    "version": 3
   },
   "file_extension": ".py",
   "mimetype": "text/x-python",
   "name": "python",
   "nbconvert_exporter": "python",
   "pygments_lexer": "ipython3",
   "version": "3.6.2"
  }
 },
 "nbformat": 4,
 "nbformat_minor": 2
}
